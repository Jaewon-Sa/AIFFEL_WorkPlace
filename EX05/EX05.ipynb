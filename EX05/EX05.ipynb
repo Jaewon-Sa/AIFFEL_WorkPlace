{
 "cells": [
  {
   "cell_type": "markdown",
   "id": "af1f698d",
   "metadata": {},
   "source": [
    "# 08.영화 리뷰 텍스트 감성분석하기"
   ]
  },
  {
   "cell_type": "code",
   "execution_count": 130,
   "id": "b892c0e7",
   "metadata": {},
   "outputs": [],
   "source": [
    "import numpy as np\n",
    "import tensorflow as tf\n",
    "import os"
   ]
  },
  {
   "cell_type": "code",
   "execution_count": 131,
   "id": "77e43985",
   "metadata": {},
   "outputs": [
    {
     "name": "stdout",
     "output_type": "stream",
     "text": [
      "1.3.3\n",
      "0.5.2\n",
      "4.1.2\n"
     ]
    }
   ],
   "source": [
    "import pandas\n",
    "import konlpy\n",
    "import gensim\n",
    "\n",
    "print(pandas.__version__)\n",
    "print(konlpy.__version__)\n",
    "print(gensim.__version__)"
   ]
  },
  {
   "cell_type": "markdown",
   "id": "57afbcf4",
   "metadata": {},
   "source": [
    "# 01 데이터 준비"
   ]
  },
  {
   "cell_type": "code",
   "execution_count": 132,
   "id": "aac56859",
   "metadata": {},
   "outputs": [
    {
     "data": {
      "text/html": [
       "<div>\n",
       "<style scoped>\n",
       "    .dataframe tbody tr th:only-of-type {\n",
       "        vertical-align: middle;\n",
       "    }\n",
       "\n",
       "    .dataframe tbody tr th {\n",
       "        vertical-align: top;\n",
       "    }\n",
       "\n",
       "    .dataframe thead th {\n",
       "        text-align: right;\n",
       "    }\n",
       "</style>\n",
       "<table border=\"1\" class=\"dataframe\">\n",
       "  <thead>\n",
       "    <tr style=\"text-align: right;\">\n",
       "      <th></th>\n",
       "      <th>id</th>\n",
       "      <th>document</th>\n",
       "      <th>label</th>\n",
       "    </tr>\n",
       "  </thead>\n",
       "  <tbody>\n",
       "    <tr>\n",
       "      <th>0</th>\n",
       "      <td>9976970</td>\n",
       "      <td>아 더빙.. 진짜 짜증나네요 목소리</td>\n",
       "      <td>0</td>\n",
       "    </tr>\n",
       "    <tr>\n",
       "      <th>1</th>\n",
       "      <td>3819312</td>\n",
       "      <td>흠...포스터보고 초딩영화줄....오버연기조차 가볍지 않구나</td>\n",
       "      <td>1</td>\n",
       "    </tr>\n",
       "    <tr>\n",
       "      <th>2</th>\n",
       "      <td>10265843</td>\n",
       "      <td>너무재밓었다그래서보는것을추천한다</td>\n",
       "      <td>0</td>\n",
       "    </tr>\n",
       "    <tr>\n",
       "      <th>3</th>\n",
       "      <td>9045019</td>\n",
       "      <td>교도소 이야기구먼 ..솔직히 재미는 없다..평점 조정</td>\n",
       "      <td>0</td>\n",
       "    </tr>\n",
       "    <tr>\n",
       "      <th>4</th>\n",
       "      <td>6483659</td>\n",
       "      <td>사이몬페그의 익살스런 연기가 돋보였던 영화!스파이더맨에서 늙어보이기만 했던 커스틴 ...</td>\n",
       "      <td>1</td>\n",
       "    </tr>\n",
       "  </tbody>\n",
       "</table>\n",
       "</div>"
      ],
      "text/plain": [
       "         id                                           document  label\n",
       "0   9976970                                아 더빙.. 진짜 짜증나네요 목소리      0\n",
       "1   3819312                  흠...포스터보고 초딩영화줄....오버연기조차 가볍지 않구나      1\n",
       "2  10265843                                  너무재밓었다그래서보는것을추천한다      0\n",
       "3   9045019                      교도소 이야기구먼 ..솔직히 재미는 없다..평점 조정      0\n",
       "4   6483659  사이몬페그의 익살스런 연기가 돋보였던 영화!스파이더맨에서 늙어보이기만 했던 커스틴 ...      1"
      ]
     },
     "execution_count": 132,
     "metadata": {},
     "output_type": "execute_result"
    }
   ],
   "source": [
    "import pandas as pd\n",
    "\n",
    "# 데이터를 읽어봅시다. \n",
    "train_data = pd.read_table('~/aiffel/sentiment_classification/data/ratings_train.txt')\n",
    "test_data = pd.read_table('~/aiffel/sentiment_classification/data/ratings_test.txt')\n",
    "\n",
    "train_data.head()#0 부정 1 긍정 "
   ]
  },
  {
   "cell_type": "markdown",
   "id": "0043e08c",
   "metadata": {},
   "source": [
    "# 02 데이터로더 구성"
   ]
  },
  {
   "cell_type": "code",
   "execution_count": 133,
   "id": "eaec9f9b",
   "metadata": {},
   "outputs": [],
   "source": [
    "from konlpy.tag import Mecab\n",
    "import numpy as np\n",
    "from collections import Counter\n",
    "\n",
    "tokenizer = Mecab()\n",
    "stopwords = ['의','가','이','은','들','는','좀','잘','걍','과','도','를','으로','자','에','와','한','하다']\n",
    "\n",
    "def load_data(train_data, test_data, num_words=10000):\n",
    "    train_data.drop_duplicates(subset=['document'], inplace=True)#중복제거\n",
    "    train_data = train_data.dropna(how = 'any') # 결측치 제거\n",
    "    test_data.drop_duplicates(subset=['document'], inplace=True)\n",
    "    test_data = test_data.dropna(how = 'any') \n",
    "    \n",
    "    X_train = [] #label, document 분리\n",
    "    for sentence in train_data['document']:\n",
    "        temp_X = tokenizer.morphs(sentence) # 토큰화\n",
    "        temp_X = [word for word in temp_X if not word in stopwords] # 불용어 제거\n",
    "        X_train.append(temp_X)\n",
    "\n",
    "    X_test = []\n",
    "    for sentence in test_data['document']:\n",
    "        temp_X = tokenizer.morphs(sentence) # 토큰화\n",
    "        temp_X = [word for word in temp_X if not word in stopwords] # 불용어 제거\n",
    "        X_test.append(temp_X)\n",
    "    \n",
    "    words = np.concatenate(X_train).tolist()#차원합치기\n",
    "    counter = Counter(words)\n",
    "    counter = counter.most_common(10000-4)#제일 많이 사용하는 단어개수 중복없이 9996개 가져오기 1단어 사전 0000개를 맞추기위해서\n",
    "    vocab = ['<PAD>', '<BOS>', '<UNK>', ''] + [key for key, _ in counter]\n",
    "    word_to_index = {word:index for index, word in enumerate(vocab)}#사전word_to_index 구성\n",
    "        \n",
    "    def wordlist_to_indexlist(wordlist):\n",
    "        return [word_to_index[word] if word in word_to_index else word_to_index['<UNK>'] for word in wordlist]\n",
    "        \n",
    "    X_train = list(map(wordlist_to_indexlist, X_train))#텍스트 스트링을 사전 인덱스 스트링으로 변환\n",
    "    X_test = list(map(wordlist_to_indexlist, X_test))\n",
    "        \n",
    "    return X_train, np.array(list(train_data['label'])), X_test, np.array(list(test_data['label'])), word_to_index \n",
    "\n",
    "X_train, y_train, X_test, y_test, word_to_index = load_data(train_data, test_data) "
   ]
  },
  {
   "cell_type": "code",
   "execution_count": 134,
   "id": "f5298ed1",
   "metadata": {},
   "outputs": [],
   "source": [
    "# 인코더 디코더 구현\n",
    "# 문장 1개를 활용할 딕셔너리와 함께 주면, 단어 인덱스 리스트 벡터로 변환해 주는 함수입니다. \n",
    "# 모든 문장은 <BOS>로 시작. \n",
    "def get_encoded_sentence(sentence, word_to_index):\n",
    "    return [word_to_index['<BOS>']]+[word_to_index[word] if word in word_to_index else word_to_index['<UNK>'] for word in sentence.split()]\n",
    "\n",
    "# 여러 개의 문장 리스트를 한꺼번에 단어 인덱스 리스트 벡터로 encode해 주는 함수\n",
    "def get_encoded_sentences(sentences, word_to_index):\n",
    "    return [get_encoded_sentence(sentence, word_to_index) for sentence in sentences]\n",
    "\n",
    "# 숫자 벡터로 encode된 문장을 원래대로 decode하는 함수\n",
    "def get_decoded_sentence(encoded_sentence, index_to_word):\n",
    "    return ' '.join(index_to_word[index] if index in index_to_word else '<UNK>' for index in encoded_sentence[1:])  #[1:]를 통해 <BOS>를 제외\n",
    "\n",
    "# 여러 개의 숫자 벡터로 encode된 문장을 한꺼번에 원래대로 decode하는 함수\n",
    "def get_decoded_sentences(encoded_sentences, index_to_word):\n",
    "    return [get_decoded_sentence(encoded_sentence, index_to_word) for encoded_sentence in encoded_sentences]"
   ]
  },
  {
   "cell_type": "code",
   "execution_count": 135,
   "id": "f2f42659",
   "metadata": {},
   "outputs": [
    {
     "name": "stdout",
     "output_type": "stream",
     "text": [
      "10000\n"
     ]
    }
   ],
   "source": [
    "print(len(word_to_index))#사전 길이 확인"
   ]
  },
  {
   "cell_type": "code",
   "execution_count": 136,
   "id": "47285d3e",
   "metadata": {},
   "outputs": [],
   "source": [
    "index_to_word = {index:word for word, index in word_to_index.items()}"
   ]
  },
  {
   "cell_type": "code",
   "execution_count": 137,
   "id": "00f2f514",
   "metadata": {},
   "outputs": [
    {
     "name": "stdout",
     "output_type": "stream",
     "text": [
      "<BOS>\n",
      "1909\n",
      "the\n",
      "[32, 74, 919, 4, 4, 39, 228, 20, 33, 748] 더 빙 . . 진짜 짜증 나 네요 목소리\n"
     ]
    }
   ],
   "source": [
    "print(index_to_word[1])     # '<BOS>' 가 출력됩니다. \n",
    "print(word_to_index['the'])  \n",
    "print(index_to_word[1909])\n",
    "# 보정 후 x_train[0] 데이터\n",
    "print(X_train[0], get_decoded_sentence(X_train[0], index_to_word))"
   ]
  },
  {
   "cell_type": "markdown",
   "id": "e5a15e3f",
   "metadata": {},
   "source": [
    "# 03 모델 구성을 위한 데이터 분석 및 가공"
   ]
  },
  {
   "cell_type": "code",
   "execution_count": 138,
   "id": "73412d77",
   "metadata": {},
   "outputs": [
    {
     "name": "stdout",
     "output_type": "stream",
     "text": [
      "문장길이 평균 :  15.96940191154864\n",
      "문장길이 최대 :  116\n",
      "문장길이 표준편차 :  12.843571191092\n",
      "pad_sequences maxlen :  41\n",
      "전체 문장의 0.9342988343341575%가 maxlen 설정값 이내에 포함됩니다. \n"
     ]
    }
   ],
   "source": [
    "# 데이터셋 문장 길이 지정 \n",
    "total_data_text = list(X_train) + list(X_test)\n",
    "# 텍스트데이터 문장길이의 리스트를 생성한 후\n",
    "num_tokens = [len(tokens) for tokens in total_data_text]\n",
    "num_tokens = np.array(num_tokens)\n",
    "# 문장길이의 평균값, 최대값, 표준편차를 계산\n",
    "print('문장길이 평균 : ', np.mean(num_tokens))\n",
    "print('문장길이 최대 : ', np.max(num_tokens))\n",
    "print('문장길이 표준편차 : ', np.std(num_tokens))\n",
    "\n",
    "#  최대 길이를 (평균 + 2*표준편차)로 \n",
    "max_tokens = np.mean(num_tokens) + 2 * np.std(num_tokens)\n",
    "maxlen = int(max_tokens)\n",
    "print('pad_sequences maxlen : ', maxlen)\n",
    "print(f'전체 문장의 {np.sum(num_tokens < max_tokens) / len(num_tokens)}%가 maxlen 설정값 이내에 포함됩니다. ')"
   ]
  },
  {
   "cell_type": "code",
   "execution_count": 139,
   "id": "0283781a",
   "metadata": {},
   "outputs": [],
   "source": [
    "#패딩 추가 작업\n",
    "X_train = tf.keras.preprocessing.sequence.pad_sequences(X_train,\n",
    "                                                        value=word_to_index[\"<PAD>\"],\n",
    "                                                        padding='pre', # 혹은 'pre'\n",
    "                                                        maxlen=maxlen)\n",
    "X_test = tf.keras.preprocessing.sequence.pad_sequences(X_test,\n",
    "                                                        value=word_to_index[\"<PAD>\"],\n",
    "                                                        padding='pre', # 혹은 'pre'\n",
    "                                                        maxlen=maxlen)"
   ]
  },
  {
   "cell_type": "markdown",
   "id": "9bbd039b",
   "metadata": {},
   "source": [
    "# 04 모델 3가지 구성"
   ]
  },
  {
   "cell_type": "code",
   "execution_count": 140,
   "id": "1bc89455",
   "metadata": {},
   "outputs": [],
   "source": [
    "vocab_size = 10000    # 어휘 사전의 크기입니다\n",
    "word_vector_dim = 300  # 워드 벡터의 차원 수"
   ]
  },
  {
   "cell_type": "code",
   "execution_count": 141,
   "id": "a2c8317f",
   "metadata": {},
   "outputs": [
    {
     "name": "stdout",
     "output_type": "stream",
     "text": [
      "Model: \"sequential_14\"\n",
      "_________________________________________________________________\n",
      "Layer (type)                 Output Shape              Param #   \n",
      "=================================================================\n",
      "embedding_14 (Embedding)     (None, None, 300)         3000000   \n",
      "_________________________________________________________________\n",
      "lstm_8 (LSTM)                (None, 128)               219648    \n",
      "_________________________________________________________________\n",
      "dense_39 (Dense)             (None, 32)                4128      \n",
      "_________________________________________________________________\n",
      "dense_40 (Dense)             (None, 8)                 264       \n",
      "_________________________________________________________________\n",
      "dense_41 (Dense)             (None, 1)                 9         \n",
      "=================================================================\n",
      "Total params: 3,224,049\n",
      "Trainable params: 3,224,049\n",
      "Non-trainable params: 0\n",
      "_________________________________________________________________\n"
     ]
    }
   ],
   "source": [
    "# RNN\n",
    "model1 = tf.keras.Sequential()\n",
    "model1.add(tf.keras.layers.Embedding(vocab_size, word_vector_dim, input_shape=(None,)))\n",
    "model1.add(tf.keras.layers.LSTM(128))   # 가장 널리 쓰이는 RNN인 LSTM 레이어를 사용하였습니다. 이때 LSTM state 벡터의 차원수는 8로 하였습니다. (변경 가능)\n",
    "model1.add(tf.keras.layers.Dense(32, activation='relu'))\n",
    "model1.add(tf.keras.layers.Dense(8, activation='relu'))\n",
    "model1.add(tf.keras.layers.Dense(1, activation='sigmoid'))  # 최종 출력은 긍정/부정을 나타내는 1dim 입니다.\n",
    "\n",
    "model1.summary()"
   ]
  },
  {
   "cell_type": "code",
   "execution_count": 142,
   "id": "e1673a0b",
   "metadata": {},
   "outputs": [
    {
     "name": "stdout",
     "output_type": "stream",
     "text": [
      "Model: \"sequential_15\"\n",
      "_________________________________________________________________\n",
      "Layer (type)                 Output Shape              Param #   \n",
      "=================================================================\n",
      "embedding_15 (Embedding)     (None, None, 300)         3000000   \n",
      "_________________________________________________________________\n",
      "global_max_pooling1d_6 (Glob (None, 300)               0         \n",
      "_________________________________________________________________\n",
      "dense_42 (Dense)             (None, 32)                9632      \n",
      "_________________________________________________________________\n",
      "dense_43 (Dense)             (None, 8)                 264       \n",
      "_________________________________________________________________\n",
      "dense_44 (Dense)             (None, 1)                 9         \n",
      "=================================================================\n",
      "Total params: 3,009,905\n",
      "Trainable params: 3,009,905\n",
      "Non-trainable params: 0\n",
      "_________________________________________________________________\n"
     ]
    }
   ],
   "source": [
    "#GlobalMaxPooling1D 단일 레이어\n",
    "model2 = tf.keras.Sequential()\n",
    "model2.add(tf.keras.layers.Embedding(vocab_size, word_vector_dim, input_shape=(None,)))\n",
    "model2.add(tf.keras.layers.GlobalMaxPooling1D())\n",
    "model2.add(tf.keras.layers.Dense(32, activation='relu'))\n",
    "model2.add(tf.keras.layers.Dense(8, activation='relu'))\n",
    "model2.add(tf.keras.layers.Dense(1, activation='sigmoid'))  # 최종 출력은 긍정/부정을 나타내는 1dim 입니다.\n",
    "\n",
    "model2.summary()"
   ]
  },
  {
   "cell_type": "code",
   "execution_count": 143,
   "id": "96e238fb",
   "metadata": {},
   "outputs": [
    {
     "name": "stdout",
     "output_type": "stream",
     "text": [
      "Model: \"sequential_16\"\n",
      "_________________________________________________________________\n",
      "Layer (type)                 Output Shape              Param #   \n",
      "=================================================================\n",
      "embedding_16 (Embedding)     (None, None, 300)         3000000   \n",
      "_________________________________________________________________\n",
      "conv1d_6 (Conv1D)            (None, None, 64)          134464    \n",
      "_________________________________________________________________\n",
      "max_pooling1d_3 (MaxPooling1 (None, None, 64)          0         \n",
      "_________________________________________________________________\n",
      "conv1d_7 (Conv1D)            (None, None, 16)          7184      \n",
      "_________________________________________________________________\n",
      "global_max_pooling1d_7 (Glob (None, 16)                0         \n",
      "_________________________________________________________________\n",
      "dense_45 (Dense)             (None, 8)                 136       \n",
      "_________________________________________________________________\n",
      "dense_46 (Dense)             (None, 1)                 9         \n",
      "=================================================================\n",
      "Total params: 3,141,793\n",
      "Trainable params: 3,141,793\n",
      "Non-trainable params: 0\n",
      "_________________________________________________________________\n"
     ]
    }
   ],
   "source": [
    "# 1차원 cnn\n",
    "model3 = tf.keras.Sequential()\n",
    "model3.add(tf.keras.layers.Embedding(vocab_size, word_vector_dim, input_shape=(None,)))\n",
    "model3.add(tf.keras.layers.Conv1D(64, 7, activation='relu'))\n",
    "model3.add(tf.keras.layers.MaxPooling1D(5))\n",
    "model3.add(tf.keras.layers.Conv1D(16, 7, activation='relu'))\n",
    "model3.add(tf.keras.layers.GlobalMaxPooling1D())\n",
    "model3.add(tf.keras.layers.Dense(8, activation='relu'))\n",
    "model3.add(tf.keras.layers.Dense(1, activation='sigmoid'))  # 최종 출력은 긍정/부정을 나타내는 1dim 입니다.\n",
    "model3.summary()"
   ]
  },
  {
   "cell_type": "code",
   "execution_count": 144,
   "id": "6ae74c89",
   "metadata": {},
   "outputs": [
    {
     "data": {
      "text/plain": [
       "146182"
      ]
     },
     "execution_count": 144,
     "metadata": {},
     "output_type": "execute_result"
    }
   ],
   "source": [
    "len(X_train)"
   ]
  },
  {
   "cell_type": "markdown",
   "id": "2365fe38",
   "metadata": {},
   "source": [
    "# 05 데이터 검증 set 분리, 훈련 시작"
   ]
  },
  {
   "cell_type": "code",
   "execution_count": 145,
   "id": "1e4ba170",
   "metadata": {},
   "outputs": [
    {
     "name": "stdout",
     "output_type": "stream",
     "text": [
      "(136182, 41)\n",
      "(136182,)\n"
     ]
    }
   ],
   "source": [
    "x_val = X_train[:10000]   \n",
    "y_val = y_train[:10000]\n",
    "# validation set을 제외한 나머지 130000건\n",
    "partial_x_train = X_train[10000:]  \n",
    "partial_y_train = y_train[10000:]\n",
    "\n",
    "print(partial_x_train.shape)\n",
    "print(partial_y_train.shape)"
   ]
  },
  {
   "cell_type": "code",
   "execution_count": 146,
   "id": "cea8715f",
   "metadata": {},
   "outputs": [],
   "source": [
    "import matplotlib.pyplot as plt\n",
    "\n",
    "#훈련 및 시각화 함수\n",
    "\n",
    "def train(model,epochs,partial_x_train,partial_y_train,x_val, y_val):\n",
    "    model.compile(optimizer='adam',\n",
    "                  loss='binary_crossentropy',\n",
    "                  metrics=['accuracy'])\n",
    "\n",
    "    history = model.fit(partial_x_train,\n",
    "                        partial_y_train,\n",
    "                        epochs=epochs,\n",
    "                        batch_size=512,\n",
    "                        validation_data=(x_val, y_val),\n",
    "                        verbose=1)\n",
    "    history_dict = history.history # epoch에 따른 그래프를 그려볼 수 있는 항목들 history_dict.keys()\n",
    "    \n",
    "    fig, (ax1, ax2) = plt.subplots(2, 1, figsize=(12, 8))\n",
    "    \n",
    "    acc = history_dict['accuracy']\n",
    "    val_acc = history_dict['val_accuracy']\n",
    "    loss = history_dict['loss']\n",
    "    val_loss = history_dict['val_loss']\n",
    "\n",
    "    epochs = range(1, len(acc) + 1)\n",
    "    \n",
    "    ax1.plot(epochs, loss, 'bo', label='Training loss')\n",
    "    ax1.plot(epochs, val_loss, 'b', label='Validation loss')\n",
    "    ax1.set_title('Training and validation loss')\n",
    "    ax1.set_xlabel('Epochs')\n",
    "    ax1.set_ylabel('Loss')\n",
    "    ax1.legend()\n",
    "    \n",
    "    ax2.plot(epochs, acc, 'bo', label='Training acc')\n",
    "    ax2.plot(epochs, val_acc, 'b', label='Validation acc')\n",
    "    ax2.set_title('Training and validation accuracy')\n",
    "    ax2.set_xlabel('Epochs')\n",
    "    ax2.set_ylabel('Accuracy')\n",
    "    ax2.legend()\n",
    "\n",
    "    plt.show()\n",
    "\n",
    "    return model"
   ]
  },
  {
   "cell_type": "markdown",
   "id": "3cdca7ec",
   "metadata": {},
   "source": [
    "# 06 각 모델 loss, accuracy 그래프 시각화"
   ]
  },
  {
   "cell_type": "code",
   "execution_count": 147,
   "id": "534bf8b1",
   "metadata": {},
   "outputs": [
    {
     "name": "stdout",
     "output_type": "stream",
     "text": [
      "Epoch 1/7\n",
      "266/266 [==============================] - 6s 16ms/step - loss: 0.4090 - accuracy: 0.8121 - val_loss: 0.3370 - val_accuracy: 0.8539\n",
      "Epoch 2/7\n",
      "266/266 [==============================] - 4s 14ms/step - loss: 0.3153 - accuracy: 0.8645 - val_loss: 0.3214 - val_accuracy: 0.8577\n",
      "Epoch 3/7\n",
      "266/266 [==============================] - 4s 14ms/step - loss: 0.2777 - accuracy: 0.8823 - val_loss: 0.3255 - val_accuracy: 0.8606\n",
      "Epoch 4/7\n",
      "266/266 [==============================] - 4s 14ms/step - loss: 0.2451 - accuracy: 0.8971 - val_loss: 0.3321 - val_accuracy: 0.8599\n",
      "Epoch 5/7\n",
      "266/266 [==============================] - 4s 14ms/step - loss: 0.2178 - accuracy: 0.9101 - val_loss: 0.3594 - val_accuracy: 0.8572\n",
      "Epoch 6/7\n",
      "266/266 [==============================] - 4s 15ms/step - loss: 0.1909 - accuracy: 0.9224 - val_loss: 0.3934 - val_accuracy: 0.8574\n",
      "Epoch 7/7\n",
      "266/266 [==============================] - 4s 15ms/step - loss: 0.1673 - accuracy: 0.9323 - val_loss: 0.4120 - val_accuracy: 0.8533\n"
     ]
    },
    {
     "data": {
      "image/png": "[encoded data removed]",
      "text/plain": [
       "<Figure size 864x576 with 2 Axes>"
      ]
     },
     "metadata": {
      "needs_background": "light"
     },
     "output_type": "display_data"
    }
   ],
   "source": [
    "RNN = train(model1,7,partial_x_train,partial_y_train,x_val, y_val)"
   ]
  },
  {
   "cell_type": "code",
   "execution_count": 148,
   "id": "da526980",
   "metadata": {},
   "outputs": [
    {
     "name": "stdout",
     "output_type": "stream",
     "text": [
      "1537/1537 - 4s - loss: 0.4163 - accuracy: 0.8492\n",
      "[0.4162755012512207, 0.8491567969322205]\n"
     ]
    }
   ],
   "source": [
    "#평가 결과\n",
    "results = RNN.evaluate(X_test,  y_test, verbose=2)\n",
    "\n",
    "print(results)"
   ]
  },
  {
   "cell_type": "code",
   "execution_count": 149,
   "id": "ac1f9ce3",
   "metadata": {},
   "outputs": [
    {
     "name": "stdout",
     "output_type": "stream",
     "text": [
      "Epoch 1/7\n",
      "266/266 [==============================] - 2s 6ms/step - loss: 0.4638 - accuracy: 0.7842 - val_loss: 0.3353 - val_accuracy: 0.8551\n",
      "Epoch 2/7\n",
      "266/266 [==============================] - 1s 5ms/step - loss: 0.3014 - accuracy: 0.8753 - val_loss: 0.3287 - val_accuracy: 0.8566\n",
      "Epoch 3/7\n",
      "266/266 [==============================] - 1s 5ms/step - loss: 0.2482 - accuracy: 0.9005 - val_loss: 0.3398 - val_accuracy: 0.8559\n",
      "Epoch 4/7\n",
      "266/266 [==============================] - 1s 5ms/step - loss: 0.1937 - accuracy: 0.9283 - val_loss: 0.3714 - val_accuracy: 0.8521\n",
      "Epoch 5/7\n",
      "266/266 [==============================] - 1s 5ms/step - loss: 0.1350 - accuracy: 0.9531 - val_loss: 0.4249 - val_accuracy: 0.8481\n",
      "Epoch 6/7\n",
      "266/266 [==============================] - 1s 5ms/step - loss: 0.0852 - accuracy: 0.9732 - val_loss: 0.4963 - val_accuracy: 0.8439\n",
      "Epoch 7/7\n",
      "266/266 [==============================] - 1s 5ms/step - loss: 0.0517 - accuracy: 0.9856 - val_loss: 0.5661 - val_accuracy: 0.8398\n"
     ]
    },
    {
     "data": {
      "image/png": "[encoded data removed]",
      "text/plain": [
       "<Figure size 864x576 with 2 Axes>"
      ]
     },
     "metadata": {
      "needs_background": "light"
     },
     "output_type": "display_data"
    }
   ],
   "source": [
    "CNN_1D = train(model2,7,partial_x_train,partial_y_train,x_val, y_val)"
   ]
  },
  {
   "cell_type": "code",
   "execution_count": 150,
   "id": "8c20d9eb",
   "metadata": {},
   "outputs": [
    {
     "name": "stdout",
     "output_type": "stream",
     "text": [
      "1537/1537 - 2s - loss: 0.5884 - accuracy: 0.8388\n",
      "[0.5883793830871582, 0.8388428688049316]\n"
     ]
    }
   ],
   "source": [
    "results = CNN_1D.evaluate(X_test,  y_test, verbose=2)\n",
    "\n",
    "print(results)"
   ]
  },
  {
   "cell_type": "code",
   "execution_count": 151,
   "id": "48e9cead",
   "metadata": {},
   "outputs": [
    {
     "name": "stdout",
     "output_type": "stream",
     "text": [
      "Epoch 1/7\n",
      "266/266 [==============================] - 4s 13ms/step - loss: 0.5322 - accuracy: 0.7902 - val_loss: 0.4676 - val_accuracy: 0.8476\n",
      "Epoch 2/7\n",
      "266/266 [==============================] - 3s 12ms/step - loss: 0.4198 - accuracy: 0.8723 - val_loss: 0.4281 - val_accuracy: 0.8577\n",
      "Epoch 3/7\n",
      "266/266 [==============================] - 3s 12ms/step - loss: 0.3393 - accuracy: 0.9051 - val_loss: 0.4247 - val_accuracy: 0.8495\n",
      "Epoch 4/7\n",
      "266/266 [==============================] - 3s 12ms/step - loss: 0.2685 - accuracy: 0.9323 - val_loss: 0.4537 - val_accuracy: 0.8518\n",
      "Epoch 5/7\n",
      "266/266 [==============================] - 3s 12ms/step - loss: 0.2213 - accuracy: 0.9483 - val_loss: 0.4840 - val_accuracy: 0.8517\n",
      "Epoch 6/7\n",
      "266/266 [==============================] - 3s 12ms/step - loss: 0.1921 - accuracy: 0.9552 - val_loss: 0.5290 - val_accuracy: 0.8520\n",
      "Epoch 7/7\n",
      "266/266 [==============================] - 3s 12ms/step - loss: 0.1705 - accuracy: 0.9603 - val_loss: 0.5473 - val_accuracy: 0.8521\n"
     ]
    },
    {
     "data": {
      "image/png": "[encoded data removed]",
      "text/plain": [
       "<Figure size 864x576 with 2 Axes>"
      ]
     },
     "metadata": {
      "needs_background": "light"
     },
     "output_type": "display_data"
    }
   ],
   "source": [
    "G_MP = train(model3,7,partial_x_train,partial_y_train,x_val, y_val)"
   ]
  },
  {
   "cell_type": "code",
   "execution_count": 152,
   "id": "f53bdfb3",
   "metadata": {},
   "outputs": [
    {
     "name": "stdout",
     "output_type": "stream",
     "text": [
      "1537/1537 - 3s - loss: 0.5760 - accuracy: 0.8450\n",
      "[0.5760498046875, 0.8450474739074707]\n"
     ]
    }
   ],
   "source": [
    "results = G_MP.evaluate(X_test,  y_test, verbose=2)\n",
    "\n",
    "print(results)"
   ]
  },
  {
   "cell_type": "markdown",
   "id": "0ac848da",
   "metadata": {},
   "source": [
    "# 07 학습된 임베딩 레이어 분석"
   ]
  },
  {
   "cell_type": "code",
   "execution_count": 153,
   "id": "2746e63c",
   "metadata": {},
   "outputs": [
    {
     "name": "stdout",
     "output_type": "stream",
     "text": [
      "(10000, 300)\n"
     ]
    }
   ],
   "source": [
    "embedding_layer = RNN.layers[0]\n",
    "weights = embedding_layer.get_weights()[0]\n",
    "print(weights.shape)#10000개의 사전, 단어를 표현한 300개의 차원 수 모두 적절하게 나옴"
   ]
  },
  {
   "cell_type": "code",
   "execution_count": 154,
   "id": "c43ac02f",
   "metadata": {},
   "outputs": [],
   "source": [
    "word2vec_file_path = os.getenv('HOME')+'/aiffel/sentiment_classification/data/word2vec_RNN.txt'\n",
    "f = open(word2vec_file_path, 'w')\n",
    "word_vector_dim=300\n",
    "f.write('{} {}\\n'.format(vocab_size-4, word_vector_dim))  # 몇개의 벡터를 얼마 사이즈로 기재할지 타이틀을 씁니다.\n",
    "\n",
    "vectors = RNN.get_weights()[0] #RNN.layers[0].get_weights()[0]\n",
    "for i in range(4,vocab_size):\n",
    "    f.write('{} {}\\n'.format(index_to_word[i], ' '.join(map(str, list(vectors[i, :])))))\n",
    "f.close()\n"
   ]
  },
  {
   "cell_type": "code",
   "execution_count": 155,
   "id": "8c306252",
   "metadata": {},
   "outputs": [],
   "source": [
    "#print(RNN.get_weights()[0])\n",
    "#print(RNN.layers[0].get_weights()[0])"
   ]
  },
  {
   "cell_type": "code",
   "execution_count": 156,
   "id": "fbb8fd29",
   "metadata": {},
   "outputs": [],
   "source": [
    "from gensim.models.keyedvectors import Word2VecKeyedVectors\n",
    "\n",
    "word_vectors = Word2VecKeyedVectors.load_word2vec_format(word2vec_file_path, binary=False)\n",
    "#print(word_vectors['끝'])"
   ]
  },
  {
   "cell_type": "code",
   "execution_count": 157,
   "id": "63670cd7",
   "metadata": {},
   "outputs": [
    {
     "data": {
      "text/plain": [
       "[('아깝', 0.6579181551933289),\n",
       " ('오글거리', 0.6059245467185974),\n",
       " ('코스프레', 0.5991096496582031),\n",
       " ('시체', 0.5892663598060608),\n",
       " ('장난', 0.5833891034126282),\n",
       " ('아류', 0.5832440853118896),\n",
       " ('무한도전', 0.5767725706100464),\n",
       " ('억지로', 0.5762734413146973),\n",
       " ('운지', 0.5711057782173157),\n",
       " ('더러워', 0.5645284056663513)]"
      ]
     },
     "execution_count": 157,
     "metadata": {},
     "output_type": "execute_result"
    }
   ],
   "source": [
    "word_vectors.similar_by_word(\"끝\") #임베딩 학습이 잘 이루어지진 않은 것 같다. 사전에 비슷한 단어가 없는 것 일수도?"
   ]
  },
  {
   "cell_type": "markdown",
   "id": "b4dd6864",
   "metadata": {},
   "source": [
    "# 08 한국어 word2vec 임베딩 활용 성능 개선"
   ]
  },
  {
   "cell_type": "code",
   "execution_count": 158,
   "id": "717ca6f8",
   "metadata": {},
   "outputs": [
    {
     "name": "stdout",
     "output_type": "stream",
     "text": [
      "ln: failed to create symbolic link '/aiffel/aiffel/sentiment_classification/data/word2vec_ko.model': File exists\n",
      "ln: failed to create symbolic link '/aiffel/aiffel/sentiment_classification/data/word2vec_ko.model.wv.vectors.npy': File exists\n",
      "ln: failed to create symbolic link '/aiffel/aiffel/sentiment_classification/data/word2vec_ko.model.trainables.syn1neg.npy': File exists\n"
     ]
    }
   ],
   "source": [
    "!ln -s ~/data/word2vec_ko.model ~/aiffel/sentiment_classification/data\n",
    "!ln -s ~/data/word2vec_ko.model.wv.vectors.npy ~/aiffel/sentiment_classification/data\n",
    "!ln -s ~/data/word2vec_ko.model.trainables.syn1neg.npy ~/aiffel/sentiment_classification/data\n"
   ]
  },
  {
   "cell_type": "code",
   "execution_count": 159,
   "id": "1bca771f",
   "metadata": {},
   "outputs": [],
   "source": [
    "from gensim.models.keyedvectors import Word2VecKeyedVectors\n",
    "word2vec = Word2VecKeyedVectors.load(os.getenv('HOME')+'/aiffel/sentiment_classification/data/word2vec_ko.model')#.wv.vectors.npy"
   ]
  },
  {
   "cell_type": "code",
   "execution_count": 160,
   "id": "feb0ace3",
   "metadata": {},
   "outputs": [
    {
     "data": {
      "text/plain": [
       "array([ 1.038851  , -1.1634965 ,  2.2386286 ,  0.8971453 , -2.088168  ,\n",
       "       -4.1942534 , -0.02519768, -0.69813883, -0.2908033 , -1.4651134 ,\n",
       "       -2.6863668 ,  0.7999443 , -0.6957915 , -0.5018775 ,  3.5025773 ,\n",
       "        0.21326113, -0.6588098 , -1.1900496 ,  0.61399573,  2.1247969 ,\n",
       "        0.1549463 ,  3.0840218 ,  3.1680267 , -3.9143991 ,  3.6073153 ,\n",
       "        0.5315545 , -0.3511633 , -1.107248  ,  1.7767181 , -0.95981866,\n",
       "        2.6072454 , -0.00697957, -3.27628   ,  1.558644  ,  0.81922376,\n",
       "        1.9231955 ,  3.7026553 , -0.53824735, -0.4920138 ,  2.4657123 ,\n",
       "       -2.620749  , -0.08950733,  0.61453176,  1.8866426 ,  0.257866  ,\n",
       "       -2.7827141 ,  2.9129577 , -0.6313133 ,  2.0387425 , -4.222685  ,\n",
       "       -2.7560544 ,  1.7903243 , -1.3080189 , -2.5531402 , -0.43849912,\n",
       "       -3.1073573 , -0.29090825,  5.1817617 ,  1.9604833 , -5.1421604 ,\n",
       "       -0.71431434,  4.5624633 , -0.55525815, -3.3019137 ,  1.6761336 ,\n",
       "       -1.9606539 , -0.2726863 ,  0.2465995 ,  1.2685091 ,  1.6055685 ,\n",
       "        1.8344896 ,  1.2752469 ,  0.99503314, -2.3348706 , -0.9290329 ,\n",
       "       -1.5920266 ,  5.693834  ,  1.1132814 , -0.9603875 , -1.970055  ,\n",
       "       -1.0120267 , -2.7289615 , -2.7759619 ,  3.214084  ,  1.8573734 ,\n",
       "       -1.3495721 , -0.10321241,  3.434593  , -2.8573685 , -1.9004927 ,\n",
       "       -1.6801298 , -2.805677  ,  1.7723105 , -0.41865307, -2.310913  ,\n",
       "       -6.2761464 , -0.8376036 ,  2.4590037 ,  2.1697695 , -4.440443  ],\n",
       "      dtype=float32)"
      ]
     },
     "execution_count": 160,
     "metadata": {},
     "output_type": "execute_result"
    }
   ],
   "source": [
    "word2vec.wv['끝']"
   ]
  },
  {
   "cell_type": "code",
   "execution_count": 161,
   "id": "ec39b39c",
   "metadata": {},
   "outputs": [
    {
     "data": {
      "text/plain": [
       "[('마지막', 0.6325399875640869),\n",
       " ('결판', 0.5526015758514404),\n",
       " ('발목', 0.5465342402458191),\n",
       " ('산산조각', 0.5418900847434998),\n",
       " ('막바지', 0.5412753820419312)]"
      ]
     },
     "execution_count": 161,
     "metadata": {},
     "output_type": "execute_result"
    }
   ],
   "source": [
    "word2vec.wv.most_similar(positive=['끝'], topn=5) #사전에 학습된 임베딩 레이어 성능 확인"
   ]
  },
  {
   "cell_type": "code",
   "execution_count": 162,
   "id": "127f3478",
   "metadata": {},
   "outputs": [],
   "source": [
    "vocab_size = 10000    # 어휘 사전의 크기입니다\n",
    "word_vector_dim = 100  # 워드 벡터의 차원 수\n",
    "\n",
    "embedding_matrix = np.random.rand(vocab_size, word_vector_dim)\n",
    "for i in range(4,vocab_size):\n",
    "    if index_to_word[i] in word2vec.wv:\n",
    "        embedding_matrix[i] = word2vec.wv[index_to_word[i]]"
   ]
  },
  {
   "cell_type": "code",
   "execution_count": 163,
   "id": "88986368",
   "metadata": {},
   "outputs": [],
   "source": [
    "from tensorflow.keras.initializers import Constant"
   ]
  },
  {
   "cell_type": "code",
   "execution_count": 164,
   "id": "0c82e35f",
   "metadata": {},
   "outputs": [
    {
     "name": "stdout",
     "output_type": "stream",
     "text": [
      "Model: \"sequential_14\"\n",
      "_________________________________________________________________\n",
      "Layer (type)                 Output Shape              Param #   \n",
      "=================================================================\n",
      "embedding_14 (Embedding)     (None, None, 300)         3000000   \n",
      "_________________________________________________________________\n",
      "lstm_8 (LSTM)                (None, 128)               219648    \n",
      "_________________________________________________________________\n",
      "dense_39 (Dense)             (None, 32)                4128      \n",
      "_________________________________________________________________\n",
      "dense_40 (Dense)             (None, 8)                 264       \n",
      "_________________________________________________________________\n",
      "dense_41 (Dense)             (None, 1)                 9         \n",
      "=================================================================\n",
      "Total params: 3,224,049\n",
      "Trainable params: 3,224,049\n",
      "Non-trainable params: 0\n",
      "_________________________________________________________________\n"
     ]
    }
   ],
   "source": [
    "model = tf.keras.Sequential()\n",
    "model.add(tf.keras.layers.Embedding(vocab_size, word_vector_dim,embeddings_initializer=Constant(embedding_matrix),\\\n",
    "                                    input_shape=(None,),\\\n",
    "                                   input_length=maxlen, trainable=True))\n",
    "model.add(tf.keras.layers.LSTM(128))   # 가장 널리 쓰이는 RNN인 LSTM 레이어를 사용하였습니다. 이때 LSTM state 벡터의 차원수는 8로 하였습니다. (변경 가능)\n",
    "model.add(tf.keras.layers.Dense(32, activation='relu'))\n",
    "model.add(tf.keras.layers.Dense(8, activation='relu'))\n",
    "model.add(tf.keras.layers.Dense(1, activation='sigmoid'))  # 최종 출력은 긍정/부정을 나타내는 1dim 입니다.\n",
    "\n",
    "model1.summary()"
   ]
  },
  {
   "cell_type": "code",
   "execution_count": 165,
   "id": "54283983",
   "metadata": {},
   "outputs": [
    {
     "name": "stdout",
     "output_type": "stream",
     "text": [
      "Epoch 1/8\n",
      "266/266 [==============================] - 5s 12ms/step - loss: 0.4840 - accuracy: 0.7672 - val_loss: 0.3812 - val_accuracy: 0.8309\n",
      "Epoch 2/8\n",
      "266/266 [==============================] - 3s 10ms/step - loss: 0.3471 - accuracy: 0.8483 - val_loss: 0.3417 - val_accuracy: 0.8481\n",
      "Epoch 3/8\n",
      "266/266 [==============================] - 3s 10ms/step - loss: 0.3018 - accuracy: 0.8713 - val_loss: 0.3184 - val_accuracy: 0.8590\n",
      "Epoch 4/8\n",
      "266/266 [==============================] - 3s 10ms/step - loss: 0.2738 - accuracy: 0.8847 - val_loss: 0.3183 - val_accuracy: 0.8629\n",
      "Epoch 5/8\n",
      "266/266 [==============================] - 3s 10ms/step - loss: 0.2487 - accuracy: 0.8974 - val_loss: 0.3141 - val_accuracy: 0.8661\n",
      "Epoch 6/8\n",
      "266/266 [==============================] - 3s 10ms/step - loss: 0.2259 - accuracy: 0.9090 - val_loss: 0.3311 - val_accuracy: 0.8630\n",
      "Epoch 7/8\n",
      "266/266 [==============================] - 3s 10ms/step - loss: 0.2059 - accuracy: 0.9188 - val_loss: 0.3356 - val_accuracy: 0.8647\n",
      "Epoch 8/8\n",
      "266/266 [==============================] - 3s 10ms/step - loss: 0.1846 - accuracy: 0.9284 - val_loss: 0.3795 - val_accuracy: 0.8588\n"
     ]
    },
    {
     "data": {
      "image/png": "[encoded data removed]",
      "text/plain": [
       "<Figure size 864x576 with 2 Axes>"
      ]
     },
     "metadata": {
      "needs_background": "light"
     },
     "output_type": "display_data"
    }
   ],
   "source": [
    "fine_model = train(model,8,partial_x_train,partial_y_train,x_val, y_val)"
   ]
  },
  {
   "cell_type": "code",
   "execution_count": 166,
   "id": "c64568db",
   "metadata": {},
   "outputs": [
    {
     "name": "stdout",
     "output_type": "stream",
     "text": [
      "1537/1537 - 3s - loss: 0.3862 - accuracy: 0.8569\n",
      "[0.38616499304771423, 0.8568871021270752]\n"
     ]
    }
   ],
   "source": [
    "results = fine_model.evaluate(X_test,  y_test, verbose=2)\n",
    "\n",
    "print(results)#학습률 85퍼 달성\n",
    "#1537/1537 - 3s - loss: 0.3862 - accuracy: 0.8569\n",
    "#[0.38616499304771423, 0.8568871021270752]"
   ]
  },
  {
   "cell_type": "markdown",
   "id": "0f860b1a",
   "metadata": {},
   "source": [
    "전체적으로 에포크 값을 조금만 올려도 오버 피팅이 자주 일어나서 weight decay 역할을 하는 레이어들이 필요하다고 생각한다"
   ]
  }
 ],
 "metadata": {
  "kernelspec": {
   "display_name": "Python 3 (ipykernel)",
   "language": "python",
   "name": "python3"
  },
  "language_info": {
   "codemirror_mode": {
    "name": "ipython",
    "version": 3
   },
   "file_extension": ".py",
   "mimetype": "text/x-python",
   "name": "python",
   "nbconvert_exporter": "python",
   "pygments_lexer": "ipython3",
   "version": "3.9.7"
  }
 },
 "nbformat": 4,
 "nbformat_minor": 5
}
