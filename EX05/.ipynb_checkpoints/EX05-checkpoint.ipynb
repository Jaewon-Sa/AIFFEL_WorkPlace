{
 "cells": [
  {
   "cell_type": "markdown",
   "id": "8a3ae9a7",
   "metadata": {},
   "source": [
    "# 08.영화 리뷰 텍스트 감성분석하기"
   ]
  },
  {
   "cell_type": "code",
   "execution_count": 1,
   "id": "76e4b566",
   "metadata": {},
   "outputs": [],
   "source": [
    "import numpy as np\n",
    "import tensorflow as tf\n",
    "import os"
   ]
  },
  {
   "cell_type": "code",
   "execution_count": 2,
   "id": "86cbc6ab",
   "metadata": {},
   "outputs": [
    {
     "name": "stdout",
     "output_type": "stream",
     "text": [
      "1.3.3\n",
      "0.5.2\n",
      "4.1.2\n"
     ]
    }
   ],
   "source": [
    "import pandas\n",
    "import konlpy\n",
    "import gensim\n",
    "\n",
    "print(pandas.__version__)\n",
    "print(konlpy.__version__)\n",
    "print(gensim.__version__)"
   ]
  },
  {
   "cell_type": "markdown",
   "id": "bded2214",
   "metadata": {},
   "source": [
    "# 01 데이터 준비"
   ]
  },
  {
   "cell_type": "code",
   "execution_count": 3,
   "id": "20b8e742",
   "metadata": {},
   "outputs": [
    {
     "data": {
      "text/html": [
       "<div>\n",
       "<style scoped>\n",
       "    .dataframe tbody tr th:only-of-type {\n",
       "        vertical-align: middle;\n",
       "    }\n",
       "\n",
       "    .dataframe tbody tr th {\n",
       "        vertical-align: top;\n",
       "    }\n",
       "\n",
       "    .dataframe thead th {\n",
       "        text-align: right;\n",
       "    }\n",
       "</style>\n",
       "<table border=\"1\" class=\"dataframe\">\n",
       "  <thead>\n",
       "    <tr style=\"text-align: right;\">\n",
       "      <th></th>\n",
       "      <th>id</th>\n",
       "      <th>document</th>\n",
       "      <th>label</th>\n",
       "    </tr>\n",
       "  </thead>\n",
       "  <tbody>\n",
       "    <tr>\n",
       "      <th>0</th>\n",
       "      <td>9976970</td>\n",
       "      <td>아 더빙.. 진짜 짜증나네요 목소리</td>\n",
       "      <td>0</td>\n",
       "    </tr>\n",
       "    <tr>\n",
       "      <th>1</th>\n",
       "      <td>3819312</td>\n",
       "      <td>흠...포스터보고 초딩영화줄....오버연기조차 가볍지 않구나</td>\n",
       "      <td>1</td>\n",
       "    </tr>\n",
       "    <tr>\n",
       "      <th>2</th>\n",
       "      <td>10265843</td>\n",
       "      <td>너무재밓었다그래서보는것을추천한다</td>\n",
       "      <td>0</td>\n",
       "    </tr>\n",
       "    <tr>\n",
       "      <th>3</th>\n",
       "      <td>9045019</td>\n",
       "      <td>교도소 이야기구먼 ..솔직히 재미는 없다..평점 조정</td>\n",
       "      <td>0</td>\n",
       "    </tr>\n",
       "    <tr>\n",
       "      <th>4</th>\n",
       "      <td>6483659</td>\n",
       "      <td>사이몬페그의 익살스런 연기가 돋보였던 영화!스파이더맨에서 늙어보이기만 했던 커스틴 ...</td>\n",
       "      <td>1</td>\n",
       "    </tr>\n",
       "  </tbody>\n",
       "</table>\n",
       "</div>"
      ],
      "text/plain": [
       "         id                                           document  label\n",
       "0   9976970                                아 더빙.. 진짜 짜증나네요 목소리      0\n",
       "1   3819312                  흠...포스터보고 초딩영화줄....오버연기조차 가볍지 않구나      1\n",
       "2  10265843                                  너무재밓었다그래서보는것을추천한다      0\n",
       "3   9045019                      교도소 이야기구먼 ..솔직히 재미는 없다..평점 조정      0\n",
       "4   6483659  사이몬페그의 익살스런 연기가 돋보였던 영화!스파이더맨에서 늙어보이기만 했던 커스틴 ...      1"
      ]
     },
     "execution_count": 3,
     "metadata": {},
     "output_type": "execute_result"
    }
   ],
   "source": [
    "import pandas as pd\n",
    "\n",
    "# 데이터를 읽어봅시다. \n",
    "train_data = pd.read_table('~/aiffel/sentiment_classification/data/ratings_train.txt')\n",
    "test_data = pd.read_table('~/aiffel/sentiment_classification/data/ratings_test.txt')\n",
    "\n",
    "train_data.head()#0 부정 1 긍정 "
   ]
  },
  {
   "cell_type": "markdown",
   "id": "da615aac",
   "metadata": {},
   "source": [
    "# 02 데이터로더 구성"
   ]
  },
  {
   "cell_type": "code",
   "execution_count": 4,
   "id": "08b8126b",
   "metadata": {},
   "outputs": [],
   "source": [
    "from konlpy.tag import Mecab\n",
    "import numpy as np\n",
    "from collections import Counter\n",
    "\n",
    "tokenizer = Mecab()\n",
    "stopwords = ['의','가','이','은','들','는','좀','잘','걍','과','도','를','으로','자','에','와','한','하다']\n",
    "\n",
    "def load_data(train_data, test_data, num_words=10000):\n",
    "    train_data.drop_duplicates(subset=['document'], inplace=True)#중복제거\n",
    "    train_data = train_data.dropna(how = 'any') # 결측치 제거\n",
    "    test_data.drop_duplicates(subset=['document'], inplace=True)\n",
    "    test_data = test_data.dropna(how = 'any') \n",
    "    \n",
    "    X_train = [] #label, document 분리\n",
    "    for sentence in train_data['document']:\n",
    "        temp_X = tokenizer.morphs(sentence) # 토큰화\n",
    "        temp_X = [word for word in temp_X if not word in stopwords] # 불용어 제거\n",
    "        X_train.append(temp_X)\n",
    "\n",
    "    X_test = []\n",
    "    for sentence in test_data['document']:\n",
    "        temp_X = tokenizer.morphs(sentence) # 토큰화\n",
    "        temp_X = [word for word in temp_X if not word in stopwords] # 불용어 제거\n",
    "        X_test.append(temp_X)\n",
    "    \n",
    "    words = np.concatenate(X_train).tolist()#차원합치기\n",
    "    counter = Counter(words)\n",
    "    counter = counter.most_common(10000-4)#제일 많이 사용하는 단어개수 중복없이 9996개 가져오기 1단어 사전 0000개를 맞추기위해서\n",
    "    vocab = ['<PAD>', '<BOS>', '<UNK>', ''] + [key for key, _ in counter]\n",
    "    word_to_index = {word:index for index, word in enumerate(vocab)}#사전word_to_index 구성\n",
    "        \n",
    "    def wordlist_to_indexlist(wordlist):\n",
    "        return [word_to_index[word] if word in word_to_index else word_to_index['<UNK>'] for word in wordlist]\n",
    "        \n",
    "    X_train = list(map(wordlist_to_indexlist, X_train))#텍스트 스트링을 사전 인덱스 스트링으로 변환\n",
    "    X_test = list(map(wordlist_to_indexlist, X_test))\n",
    "        \n",
    "    return X_train, np.array(list(train_data['label'])), X_test, np.array(list(test_data['label'])), word_to_index \n",
    "\n",
    "X_train, y_train, X_test, y_test, word_to_index = load_data(train_data, test_data) "
   ]
  },
  {
   "cell_type": "code",
   "execution_count": 5,
   "id": "f1a0469d",
   "metadata": {},
   "outputs": [],
   "source": [
    "# 인코더 디코더 구현\n",
    "# 문장 1개를 활용할 딕셔너리와 함께 주면, 단어 인덱스 리스트 벡터로 변환해 주는 함수입니다. \n",
    "# 모든 문장은 <BOS>로 시작. \n",
    "def get_encoded_sentence(sentence, word_to_index):\n",
    "    return [word_to_index['<BOS>']]+[word_to_index[word] if word in word_to_index else word_to_index['<UNK>'] for word in sentence.split()]\n",
    "\n",
    "# 여러 개의 문장 리스트를 한꺼번에 단어 인덱스 리스트 벡터로 encode해 주는 함수\n",
    "def get_encoded_sentences(sentences, word_to_index):\n",
    "    return [get_encoded_sentence(sentence, word_to_index) for sentence in sentences]\n",
    "\n",
    "# 숫자 벡터로 encode된 문장을 원래대로 decode하는 함수\n",
    "def get_decoded_sentence(encoded_sentence, index_to_word):\n",
    "    return ' '.join(index_to_word[index] if index in index_to_word else '<UNK>' for index in encoded_sentence[1:])  #[1:]를 통해 <BOS>를 제외\n",
    "\n",
    "# 여러 개의 숫자 벡터로 encode된 문장을 한꺼번에 원래대로 decode하는 함수\n",
    "def get_decoded_sentences(encoded_sentences, index_to_word):\n",
    "    return [get_decoded_sentence(encoded_sentence, index_to_word) for encoded_sentence in encoded_sentences]"
   ]
  },
  {
   "cell_type": "code",
   "execution_count": 6,
   "id": "986ad641",
   "metadata": {},
   "outputs": [
    {
     "name": "stdout",
     "output_type": "stream",
     "text": [
      "10000\n"
     ]
    }
   ],
   "source": [
    "print(len(word_to_index))#사전 길이 확인"
   ]
  },
  {
   "cell_type": "code",
   "execution_count": 7,
   "id": "215f3a08",
   "metadata": {},
   "outputs": [],
   "source": [
    "index_to_word = {index:word for word, index in word_to_index.items()}"
   ]
  },
  {
   "cell_type": "code",
   "execution_count": 8,
   "id": "ac6987f6",
   "metadata": {},
   "outputs": [
    {
     "name": "stdout",
     "output_type": "stream",
     "text": [
      "<BOS>\n",
      "1909\n",
      "the\n",
      "[32, 74, 919, 4, 4, 39, 228, 20, 33, 748] 더 빙 . . 진짜 짜증 나 네요 목소리\n"
     ]
    }
   ],
   "source": [
    "print(index_to_word[1])     # '<BOS>' 가 출력됩니다. \n",
    "print(word_to_index['the'])  \n",
    "print(index_to_word[1909])\n",
    "# 보정 후 x_train[0] 데이터\n",
    "print(X_train[0], get_decoded_sentence(X_train[0], index_to_word))"
   ]
  },
  {
   "cell_type": "markdown",
   "id": "a9ba700a",
   "metadata": {},
   "source": [
    "# 03 모델 구성을 위한 데이터 분석 및 가공"
   ]
  },
  {
   "cell_type": "code",
   "execution_count": 9,
   "id": "6e4d9eb7",
   "metadata": {},
   "outputs": [
    {
     "name": "stdout",
     "output_type": "stream",
     "text": [
      "문장길이 평균 :  15.96940191154864\n",
      "문장길이 최대 :  116\n",
      "문장길이 표준편차 :  12.843571191092\n",
      "pad_sequences maxlen :  41\n",
      "전체 문장의 0.9342988343341575%가 maxlen 설정값 이내에 포함됩니다. \n"
     ]
    }
   ],
   "source": [
    "# 데이터셋 문장 길이 지정 \n",
    "total_data_text = list(X_train) + list(X_test)\n",
    "# 텍스트데이터 문장길이의 리스트를 생성한 후\n",
    "num_tokens = [len(tokens) for tokens in total_data_text]\n",
    "num_tokens = np.array(num_tokens)\n",
    "# 문장길이의 평균값, 최대값, 표준편차를 계산\n",
    "print('문장길이 평균 : ', np.mean(num_tokens))\n",
    "print('문장길이 최대 : ', np.max(num_tokens))\n",
    "print('문장길이 표준편차 : ', np.std(num_tokens))\n",
    "\n",
    "#  최대 길이를 (평균 + 2*표준편차)로 \n",
    "max_tokens = np.mean(num_tokens) + 2 * np.std(num_tokens)\n",
    "maxlen = int(max_tokens)\n",
    "print('pad_sequences maxlen : ', maxlen)\n",
    "print(f'전체 문장의 {np.sum(num_tokens < max_tokens) / len(num_tokens)}%가 maxlen 설정값 이내에 포함됩니다. ')"
   ]
  },
  {
   "cell_type": "code",
   "execution_count": 10,
   "id": "e59e3be0",
   "metadata": {},
   "outputs": [],
   "source": [
    "#패딩 추가 작업\n",
    "X_train = tf.keras.preprocessing.sequence.pad_sequences(X_train,\n",
    "                                                        value=word_to_index[\"<PAD>\"],\n",
    "                                                        padding='pre', # 혹은 'pre'\n",
    "                                                        maxlen=maxlen)\n",
    "X_test = tf.keras.preprocessing.sequence.pad_sequences(X_test,\n",
    "                                                        value=word_to_index[\"<PAD>\"],\n",
    "                                                        padding='pre', # 혹은 'pre'\n",
    "                                                        maxlen=maxlen)"
   ]
  },
  {
   "cell_type": "markdown",
   "id": "18c814cf",
   "metadata": {},
   "source": [
    "# 04 모델 3가지 구성"
   ]
  },
  {
   "cell_type": "code",
   "execution_count": 11,
   "id": "417ab1da",
   "metadata": {},
   "outputs": [],
   "source": [
    "vocab_size = 10000    # 어휘 사전의 크기입니다\n",
    "word_vector_dim = 300  # 워드 벡터의 차원 수"
   ]
  },
  {
   "cell_type": "code",
   "execution_count": 43,
   "id": "63bbee3a",
   "metadata": {},
   "outputs": [
    {
     "name": "stdout",
     "output_type": "stream",
     "text": [
      "Model: \"sequential_4\"\n",
      "_________________________________________________________________\n",
      "Layer (type)                 Output Shape              Param #   \n",
      "=================================================================\n",
      "embedding_4 (Embedding)      (None, None, 100)         1000000   \n",
      "_________________________________________________________________\n",
      "lstm_2 (LSTM)                (None, 128)               117248    \n",
      "_________________________________________________________________\n",
      "dense_11 (Dense)             (None, 32)                4128      \n",
      "_________________________________________________________________\n",
      "dense_12 (Dense)             (None, 8)                 264       \n",
      "_________________________________________________________________\n",
      "dense_13 (Dense)             (None, 1)                 9         \n",
      "=================================================================\n",
      "Total params: 1,121,649\n",
      "Trainable params: 1,121,649\n",
      "Non-trainable params: 0\n",
      "_________________________________________________________________\n"
     ]
    }
   ],
   "source": [
    "# RNN\n",
    "model1 = tf.keras.Sequential()\n",
    "model1.add(tf.keras.layers.Embedding(vocab_size, word_vector_dim, input_shape=(None,)))\n",
    "model1.add(tf.keras.layers.LSTM(128))   # 가장 널리 쓰이는 RNN인 LSTM 레이어를 사용하였습니다. 이때 LSTM state 벡터의 차원수는 8로 하였습니다. (변경 가능)\n",
    "model1.add(tf.keras.layers.Dense(32, activation='relu'))\n",
    "model1.add(tf.keras.layers.Dense(8, activation='relu'))\n",
    "model1.add(tf.keras.layers.Dense(1, activation='sigmoid'))  # 최종 출력은 긍정/부정을 나타내는 1dim 입니다.\n",
    "\n",
    "model1.summary()"
   ]
  },
  {
   "cell_type": "code",
   "execution_count": 44,
   "id": "5c71ad7d",
   "metadata": {},
   "outputs": [
    {
     "name": "stdout",
     "output_type": "stream",
     "text": [
      "Model: \"sequential_5\"\n",
      "_________________________________________________________________\n",
      "Layer (type)                 Output Shape              Param #   \n",
      "=================================================================\n",
      "embedding_5 (Embedding)      (None, None, 100)         1000000   \n",
      "_________________________________________________________________\n",
      "global_max_pooling1d_2 (Glob (None, 100)               0         \n",
      "_________________________________________________________________\n",
      "dense_14 (Dense)             (None, 32)                3232      \n",
      "_________________________________________________________________\n",
      "dense_15 (Dense)             (None, 8)                 264       \n",
      "_________________________________________________________________\n",
      "dense_16 (Dense)             (None, 1)                 9         \n",
      "=================================================================\n",
      "Total params: 1,003,505\n",
      "Trainable params: 1,003,505\n",
      "Non-trainable params: 0\n",
      "_________________________________________________________________\n"
     ]
    }
   ],
   "source": [
    "#GlobalMaxPooling1D 단일 레이어\n",
    "model2 = tf.keras.Sequential()\n",
    "model2.add(tf.keras.layers.Embedding(vocab_size, word_vector_dim, input_shape=(None,)))\n",
    "model2.add(tf.keras.layers.GlobalMaxPooling1D())\n",
    "model2.add(tf.keras.layers.Dense(32, activation='relu'))\n",
    "model2.add(tf.keras.layers.Dense(8, activation='relu'))\n",
    "model2.add(tf.keras.layers.Dense(1, activation='sigmoid'))  # 최종 출력은 긍정/부정을 나타내는 1dim 입니다.\n",
    "\n",
    "model2.summary()"
   ]
  },
  {
   "cell_type": "code",
   "execution_count": 45,
   "id": "71b34669",
   "metadata": {},
   "outputs": [
    {
     "name": "stdout",
     "output_type": "stream",
     "text": [
      "Model: \"sequential_6\"\n",
      "_________________________________________________________________\n",
      "Layer (type)                 Output Shape              Param #   \n",
      "=================================================================\n",
      "embedding_6 (Embedding)      (None, None, 100)         1000000   \n",
      "_________________________________________________________________\n",
      "conv1d_2 (Conv1D)            (None, None, 64)          44864     \n",
      "_________________________________________________________________\n",
      "max_pooling1d_1 (MaxPooling1 (None, None, 64)          0         \n",
      "_________________________________________________________________\n",
      "conv1d_3 (Conv1D)            (None, None, 16)          7184      \n",
      "_________________________________________________________________\n",
      "global_max_pooling1d_3 (Glob (None, 16)                0         \n",
      "_________________________________________________________________\n",
      "dense_17 (Dense)             (None, 8)                 136       \n",
      "_________________________________________________________________\n",
      "dense_18 (Dense)             (None, 1)                 9         \n",
      "=================================================================\n",
      "Total params: 1,052,193\n",
      "Trainable params: 1,052,193\n",
      "Non-trainable params: 0\n",
      "_________________________________________________________________\n"
     ]
    }
   ],
   "source": [
    "# 1차원 cnn\n",
    "model3 = tf.keras.Sequential()\n",
    "model3.add(tf.keras.layers.Embedding(vocab_size, word_vector_dim, input_shape=(None,)))\n",
    "model3.add(tf.keras.layers.Conv1D(64, 7, activation='relu'))\n",
    "model3.add(tf.keras.layers.MaxPooling1D(5))\n",
    "model3.add(tf.keras.layers.Conv1D(16, 7, activation='relu'))\n",
    "model3.add(tf.keras.layers.GlobalMaxPooling1D())\n",
    "model3.add(tf.keras.layers.Dense(8, activation='relu'))\n",
    "model3.add(tf.keras.layers.Dense(1, activation='sigmoid'))  # 최종 출력은 긍정/부정을 나타내는 1dim 입니다.\n",
    "model3.summary()"
   ]
  },
  {
   "cell_type": "code",
   "execution_count": 66,
   "id": "4f74f4ea",
   "metadata": {},
   "outputs": [
    {
     "data": {
      "text/plain": [
       "146182"
      ]
     },
     "execution_count": 66,
     "metadata": {},
     "output_type": "execute_result"
    }
   ],
   "source": [
    "len(X_train)"
   ]
  },
  {
   "cell_type": "markdown",
   "id": "daa300e5",
   "metadata": {},
   "source": [
    "# 05 데이터 검증 set 분리, 훈련 시작"
   ]
  },
  {
   "cell_type": "code",
   "execution_count": 47,
   "id": "a6434e26",
   "metadata": {},
   "outputs": [
    {
     "name": "stdout",
     "output_type": "stream",
     "text": [
      "(136182, 41)\n",
      "(136182,)\n"
     ]
    }
   ],
   "source": [
    "x_val = X_train[:10000]   \n",
    "y_val = y_train[:10000]\n",
    "# validation set을 제외한 나머지 130000건\n",
    "partial_x_train = X_train[10000:]  \n",
    "partial_y_train = y_train[10000:]\n",
    "\n",
    "print(partial_x_train.shape)\n",
    "print(partial_y_train.shape)"
   ]
  },
  {
   "cell_type": "code",
   "execution_count": 48,
   "id": "83089c29",
   "metadata": {},
   "outputs": [],
   "source": [
    "import matplotlib.pyplot as plt\n",
    "\n",
    "#훈련 및 시각화 함수\n",
    "\n",
    "def train(model,epochs,partial_x_train,partial_y_train,x_val, y_val):\n",
    "    model.compile(optimizer='adam',\n",
    "                  loss='binary_crossentropy',\n",
    "                  metrics=['accuracy'])\n",
    "\n",
    "    history = model.fit(partial_x_train,\n",
    "                        partial_y_train,\n",
    "                        epochs=epochs,\n",
    "                        batch_size=512,\n",
    "                        validation_data=(x_val, y_val),\n",
    "                        verbose=1)\n",
    "    history_dict = history.history # epoch에 따른 그래프를 그려볼 수 있는 항목들 history_dict.keys()\n",
    "    \n",
    "    fig, (ax1, ax2) = plt.subplots(2, 1, figsize=(12, 8))\n",
    "    \n",
    "    acc = history_dict['accuracy']\n",
    "    val_acc = history_dict['val_accuracy']\n",
    "    loss = history_dict['loss']\n",
    "    val_loss = history_dict['val_loss']\n",
    "\n",
    "    epochs = range(1, len(acc) + 1)\n",
    "    \n",
    "    ax1.plot(epochs, loss, 'bo', label='Training loss')\n",
    "    ax1.plot(epochs, val_loss, 'b', label='Validation loss')\n",
    "    ax1.set_title('Training and validation loss')\n",
    "    ax1.set_xlabel('Epochs')\n",
    "    ax1.set_ylabel('Loss')\n",
    "    ax1.legend()\n",
    "    \n",
    "    ax2.plot(epochs, acc, 'bo', label='Training acc')\n",
    "    ax2.plot(epochs, val_acc, 'b', label='Validation acc')\n",
    "    ax2.set_title('Training and validation accuracy')\n",
    "    ax2.set_xlabel('Epochs')\n",
    "    ax2.set_ylabel('Accuracy')\n",
    "    ax2.legend()\n",
    "\n",
    "    plt.show()\n",
    "\n",
    "    return model"
   ]
  },
  {
   "cell_type": "markdown",
   "id": "7a3c3ad1",
   "metadata": {},
   "source": [
    "# 06 각 모델 loss, accuracy 그래프 시각화"
   ]
  },
  {
   "cell_type": "code",
   "execution_count": 49,
   "id": "00cd14c3",
   "metadata": {},
   "outputs": [
    {
     "name": "stdout",
     "output_type": "stream",
     "text": [
      "Epoch 1/10\n",
      "266/266 [==============================] - 5s 12ms/step - loss: 0.4063 - accuracy: 0.8129 - val_loss: 0.3406 - val_accuracy: 0.8538\n",
      "Epoch 2/10\n",
      "266/266 [==============================] - 3s 10ms/step - loss: 0.3172 - accuracy: 0.8633 - val_loss: 0.3266 - val_accuracy: 0.8550\n",
      "Epoch 3/10\n",
      "266/266 [==============================] - 3s 10ms/step - loss: 0.2825 - accuracy: 0.8796 - val_loss: 0.3271 - val_accuracy: 0.8603\n",
      "Epoch 4/10\n",
      "266/266 [==============================] - 3s 10ms/step - loss: 0.2515 - accuracy: 0.8936 - val_loss: 0.3367 - val_accuracy: 0.8593\n",
      "Epoch 5/10\n",
      "266/266 [==============================] - 3s 10ms/step - loss: 0.2260 - accuracy: 0.9058 - val_loss: 0.3458 - val_accuracy: 0.8577\n",
      "Epoch 6/10\n",
      "266/266 [==============================] - 3s 11ms/step - loss: 0.2037 - accuracy: 0.9163 - val_loss: 0.3653 - val_accuracy: 0.8564\n",
      "Epoch 7/10\n",
      "266/266 [==============================] - 3s 11ms/step - loss: 0.1824 - accuracy: 0.9261 - val_loss: 0.3878 - val_accuracy: 0.8554\n",
      "Epoch 8/10\n",
      "266/266 [==============================] - 3s 11ms/step - loss: 0.1616 - accuracy: 0.9354 - val_loss: 0.4268 - val_accuracy: 0.8508\n",
      "Epoch 9/10\n",
      "266/266 [==============================] - 3s 11ms/step - loss: 0.1462 - accuracy: 0.9425 - val_loss: 0.4747 - val_accuracy: 0.8460\n",
      "Epoch 10/10\n",
      "266/266 [==============================] - 3s 11ms/step - loss: 0.1305 - accuracy: 0.9487 - val_loss: 0.5128 - val_accuracy: 0.8439\n"
     ]
    },
    {
     "data": {
      "image/png": "[encoded data removed]",
      "text/plain": [
       "<Figure size 864x576 with 2 Axes>"
      ]
     },
     "metadata": {
      "needs_background": "light"
     },
     "output_type": "display_data"
    }
   ],
   "source": [
    "RNN = train(model1,7,partial_x_train,partial_y_train,x_val, y_val)"
   ]
  },
  {
   "cell_type": "code",
   "execution_count": 50,
   "id": "a8df784e",
   "metadata": {},
   "outputs": [
    {
     "name": "stdout",
     "output_type": "stream",
     "text": [
      "1537/1537 - 4s - loss: 0.5106 - accuracy: 0.8431\n",
      "[0.5105573534965515, 0.8430945873260498]\n"
     ]
    }
   ],
   "source": [
    "#평가 결과\n",
    "results = RNN.evaluate(X_test,  y_test, verbose=2)\n",
    "\n",
    "print(results)"
   ]
  },
  {
   "cell_type": "code",
   "execution_count": 52,
   "id": "ca317469",
   "metadata": {},
   "outputs": [
    {
     "name": "stdout",
     "output_type": "stream",
     "text": [
      "Epoch 1/10\n",
      "266/266 [==============================] - 2s 4ms/step - loss: 0.4581 - accuracy: 0.7911 - val_loss: 0.3389 - val_accuracy: 0.8501\n",
      "Epoch 2/10\n",
      "266/266 [==============================] - 1s 4ms/step - loss: 0.3077 - accuracy: 0.8714 - val_loss: 0.3329 - val_accuracy: 0.8528\n",
      "Epoch 3/10\n",
      "266/266 [==============================] - 1s 4ms/step - loss: 0.2625 - accuracy: 0.8938 - val_loss: 0.3414 - val_accuracy: 0.8542\n",
      "Epoch 4/10\n",
      "266/266 [==============================] - 1s 4ms/step - loss: 0.2223 - accuracy: 0.9132 - val_loss: 0.3634 - val_accuracy: 0.8531\n",
      "Epoch 5/10\n",
      "266/266 [==============================] - 1s 4ms/step - loss: 0.1829 - accuracy: 0.9318 - val_loss: 0.3948 - val_accuracy: 0.8498\n",
      "Epoch 6/10\n",
      "266/266 [==============================] - 1s 4ms/step - loss: 0.1439 - accuracy: 0.9485 - val_loss: 0.4531 - val_accuracy: 0.8448\n",
      "Epoch 7/10\n",
      "266/266 [==============================] - 1s 4ms/step - loss: 0.1103 - accuracy: 0.9627 - val_loss: 0.5077 - val_accuracy: 0.8403\n",
      "Epoch 8/10\n",
      "266/266 [==============================] - 1s 4ms/step - loss: 0.0822 - accuracy: 0.9738 - val_loss: 0.5676 - val_accuracy: 0.8366\n",
      "Epoch 9/10\n",
      "266/266 [==============================] - 1s 4ms/step - loss: 0.0627 - accuracy: 0.9809 - val_loss: 0.6250 - val_accuracy: 0.8369\n",
      "Epoch 10/10\n",
      "266/266 [==============================] - 1s 4ms/step - loss: 0.0482 - accuracy: 0.9858 - val_loss: 0.7038 - val_accuracy: 0.8333\n"
     ]
    },
    {
     "data": {
      "image/png": "[encoded data removed]",
      "text/plain": [
       "<Figure size 864x576 with 2 Axes>"
      ]
     },
     "metadata": {
      "needs_background": "light"
     },
     "output_type": "display_data"
    }
   ],
   "source": [
    "CNN_1D = train(model2,7,partial_x_train,partial_y_train,x_val, y_val)"
   ]
  },
  {
   "cell_type": "code",
   "execution_count": 53,
   "id": "e81bccf1",
   "metadata": {},
   "outputs": [
    {
     "name": "stdout",
     "output_type": "stream",
     "text": [
      "1537/1537 - 2s - loss: 0.7145 - accuracy: 0.8290\n",
      "[0.7144884467124939, 0.8289561867713928]\n"
     ]
    }
   ],
   "source": [
    "results = CNN_1D.evaluate(X_test,  y_test, verbose=2)\n",
    "\n",
    "print(results)"
   ]
  },
  {
   "cell_type": "code",
   "execution_count": 54,
   "id": "f8628710",
   "metadata": {},
   "outputs": [
    {
     "name": "stdout",
     "output_type": "stream",
     "text": [
      "Epoch 1/10\n",
      "266/266 [==============================] - 3s 9ms/step - loss: 0.4214 - accuracy: 0.7978 - val_loss: 0.3322 - val_accuracy: 0.8556\n",
      "Epoch 2/10\n",
      "266/266 [==============================] - 2s 7ms/step - loss: 0.2941 - accuracy: 0.8764 - val_loss: 0.3166 - val_accuracy: 0.8631\n",
      "Epoch 3/10\n",
      "266/266 [==============================] - 2s 7ms/step - loss: 0.2338 - accuracy: 0.9071 - val_loss: 0.3320 - val_accuracy: 0.8589\n",
      "Epoch 4/10\n",
      "266/266 [==============================] - 2s 7ms/step - loss: 0.1630 - accuracy: 0.9411 - val_loss: 0.3825 - val_accuracy: 0.8516\n",
      "Epoch 5/10\n",
      "266/266 [==============================] - 2s 7ms/step - loss: 0.1004 - accuracy: 0.9667 - val_loss: 0.4584 - val_accuracy: 0.8438\n",
      "Epoch 6/10\n",
      "266/266 [==============================] - 2s 7ms/step - loss: 0.0620 - accuracy: 0.9805 - val_loss: 0.5585 - val_accuracy: 0.8477\n",
      "Epoch 7/10\n",
      "266/266 [==============================] - 2s 7ms/step - loss: 0.0402 - accuracy: 0.9875 - val_loss: 0.6414 - val_accuracy: 0.8383\n",
      "Epoch 8/10\n",
      "266/266 [==============================] - 2s 7ms/step - loss: 0.0281 - accuracy: 0.9914 - val_loss: 0.7212 - val_accuracy: 0.8412\n",
      "Epoch 9/10\n",
      "266/266 [==============================] - 2s 7ms/step - loss: 0.0220 - accuracy: 0.9929 - val_loss: 0.8086 - val_accuracy: 0.8387\n",
      "Epoch 10/10\n",
      "266/266 [==============================] - 2s 7ms/step - loss: 0.0179 - accuracy: 0.9941 - val_loss: 0.8698 - val_accuracy: 0.8409\n"
     ]
    },
    {
     "data": {
      "image/png": "[encoded data removed]",
      "text/plain": [
       "<Figure size 864x576 with 2 Axes>"
      ]
     },
     "metadata": {
      "needs_background": "light"
     },
     "output_type": "display_data"
    }
   ],
   "source": [
    "G_MP = train(model3,7,partial_x_train,partial_y_train,x_val, y_val)"
   ]
  },
  {
   "cell_type": "code",
   "execution_count": 55,
   "id": "21116835",
   "metadata": {},
   "outputs": [
    {
     "name": "stdout",
     "output_type": "stream",
     "text": [
      "1537/1537 - 3s - loss: 0.8796 - accuracy: 0.8371\n",
      "[0.8795537352561951, 0.837073028087616]\n"
     ]
    }
   ],
   "source": [
    "results = G_MP.evaluate(X_test,  y_test, verbose=2)\n",
    "\n",
    "print(results)"
   ]
  },
  {
   "cell_type": "markdown",
   "id": "5826062d",
   "metadata": {},
   "source": [
    "# 07 학습된 임베딩 레이어 분석"
   ]
  },
  {
   "cell_type": "code",
   "execution_count": 67,
   "id": "9389a2c3",
   "metadata": {},
   "outputs": [
    {
     "name": "stdout",
     "output_type": "stream",
     "text": [
      "(10000, 100)\n"
     ]
    }
   ],
   "source": [
    "embedding_layer = RNN.layers[0]\n",
    "weights = embedding_layer.get_weights()[0]\n",
    "print(weights.shape)#10000개의 사전, 단어를 표현한 300개의 차원 수 모두 적절하게 나옴"
   ]
  },
  {
   "cell_type": "markdown",
   "id": "4006d70f",
   "metadata": {},
   "source": [
    "# 08 한국어 word2vec 임베딩 활용 성능 개선"
   ]
  },
  {
   "cell_type": "code",
   "execution_count": 56,
   "id": "666caff1",
   "metadata": {},
   "outputs": [
    {
     "name": "stdout",
     "output_type": "stream",
     "text": [
      "ln: failed to create symbolic link '/aiffel/aiffel/sentiment_classification/data/word2vec_ko.model': File exists\n",
      "ln: failed to create symbolic link '/aiffel/aiffel/sentiment_classification/data/word2vec_ko.model.wv.vectors.npy': File exists\n",
      "ln: failed to create symbolic link '/aiffel/aiffel/sentiment_classification/data/word2vec_ko.model.trainables.syn1neg.npy': File exists\n"
     ]
    }
   ],
   "source": [
    "!ln -s ~/data/word2vec_ko.model ~/aiffel/sentiment_classification/data\n",
    "!ln -s ~/data/word2vec_ko.model.wv.vectors.npy ~/aiffel/sentiment_classification/data\n",
    "!ln -s ~/data/word2vec_ko.model.trainables.syn1neg.npy ~/aiffel/sentiment_classification/data\n"
   ]
  },
  {
   "cell_type": "code",
   "execution_count": 57,
   "id": "519694aa",
   "metadata": {},
   "outputs": [],
   "source": [
    "from gensim.models.keyedvectors import Word2VecKeyedVectors\n",
    "word2vec = Word2VecKeyedVectors.load(os.getenv('HOME')+'/aiffel/sentiment_classification/data/word2vec_ko.model')#.wv.vectors.npy"
   ]
  },
  {
   "cell_type": "code",
   "execution_count": 68,
   "id": "73bac322",
   "metadata": {},
   "outputs": [
    {
     "data": {
      "text/plain": [
       "array([ 1.038851  , -1.1634965 ,  2.2386286 ,  0.8971453 , -2.088168  ,\n",
       "       -4.1942534 , -0.02519768, -0.69813883, -0.2908033 , -1.4651134 ,\n",
       "       -2.6863668 ,  0.7999443 , -0.6957915 , -0.5018775 ,  3.5025773 ,\n",
       "        0.21326113, -0.6588098 , -1.1900496 ,  0.61399573,  2.1247969 ,\n",
       "        0.1549463 ,  3.0840218 ,  3.1680267 , -3.9143991 ,  3.6073153 ,\n",
       "        0.5315545 , -0.3511633 , -1.107248  ,  1.7767181 , -0.95981866,\n",
       "        2.6072454 , -0.00697957, -3.27628   ,  1.558644  ,  0.81922376,\n",
       "        1.9231955 ,  3.7026553 , -0.53824735, -0.4920138 ,  2.4657123 ,\n",
       "       -2.620749  , -0.08950733,  0.61453176,  1.8866426 ,  0.257866  ,\n",
       "       -2.7827141 ,  2.9129577 , -0.6313133 ,  2.0387425 , -4.222685  ,\n",
       "       -2.7560544 ,  1.7903243 , -1.3080189 , -2.5531402 , -0.43849912,\n",
       "       -3.1073573 , -0.29090825,  5.1817617 ,  1.9604833 , -5.1421604 ,\n",
       "       -0.71431434,  4.5624633 , -0.55525815, -3.3019137 ,  1.6761336 ,\n",
       "       -1.9606539 , -0.2726863 ,  0.2465995 ,  1.2685091 ,  1.6055685 ,\n",
       "        1.8344896 ,  1.2752469 ,  0.99503314, -2.3348706 , -0.9290329 ,\n",
       "       -1.5920266 ,  5.693834  ,  1.1132814 , -0.9603875 , -1.970055  ,\n",
       "       -1.0120267 , -2.7289615 , -2.7759619 ,  3.214084  ,  1.8573734 ,\n",
       "       -1.3495721 , -0.10321241,  3.434593  , -2.8573685 , -1.9004927 ,\n",
       "       -1.6801298 , -2.805677  ,  1.7723105 , -0.41865307, -2.310913  ,\n",
       "       -6.2761464 , -0.8376036 ,  2.4590037 ,  2.1697695 , -4.440443  ],\n",
       "      dtype=float32)"
      ]
     },
     "execution_count": 68,
     "metadata": {},
     "output_type": "execute_result"
    }
   ],
   "source": [
    "word2vec.wv['끝']"
   ]
  },
  {
   "cell_type": "code",
   "execution_count": 69,
   "id": "21cd049a",
   "metadata": {},
   "outputs": [
    {
     "data": {
      "text/plain": [
       "[('마지막', 0.6325399875640869),\n",
       " ('결판', 0.5526015758514404),\n",
       " ('발목', 0.5465342402458191),\n",
       " ('산산조각', 0.5418900847434998),\n",
       " ('막바지', 0.5412753820419312)]"
      ]
     },
     "execution_count": 69,
     "metadata": {},
     "output_type": "execute_result"
    }
   ],
   "source": [
    "word2vec.wv.most_similar(positive=['끝'], topn=5) #사전에 학습된 임베딩 레이어 성능 확인"
   ]
  },
  {
   "cell_type": "code",
   "execution_count": 70,
   "id": "0ef343fb",
   "metadata": {},
   "outputs": [],
   "source": [
    "vocab_size = 10000    # 어휘 사전의 크기입니다\n",
    "word_vector_dim = 100  # 워드 벡터의 차원 수\n",
    "\n",
    "embedding_matrix = np.random.rand(vocab_size, word_vector_dim)\n",
    "for i in range(4,vocab_size):\n",
    "    if index_to_word[i] in word2vec.wv:\n",
    "        embedding_matrix[i] = word2vec.wv[index_to_word[i]]"
   ]
  },
  {
   "cell_type": "code",
   "execution_count": 71,
   "id": "8931bff0",
   "metadata": {},
   "outputs": [],
   "source": [
    "from tensorflow.keras.initializers import Constant"
   ]
  },
  {
   "cell_type": "code",
   "execution_count": 75,
   "id": "caf46f61",
   "metadata": {},
   "outputs": [
    {
     "name": "stdout",
     "output_type": "stream",
     "text": [
      "Model: \"sequential_4\"\n",
      "_________________________________________________________________\n",
      "Layer (type)                 Output Shape              Param #   \n",
      "=================================================================\n",
      "embedding_4 (Embedding)      (None, None, 100)         1000000   \n",
      "_________________________________________________________________\n",
      "lstm_2 (LSTM)                (None, 128)               117248    \n",
      "_________________________________________________________________\n",
      "dense_11 (Dense)             (None, 32)                4128      \n",
      "_________________________________________________________________\n",
      "dense_12 (Dense)             (None, 8)                 264       \n",
      "_________________________________________________________________\n",
      "dense_13 (Dense)             (None, 1)                 9         \n",
      "=================================================================\n",
      "Total params: 1,121,649\n",
      "Trainable params: 1,121,649\n",
      "Non-trainable params: 0\n",
      "_________________________________________________________________\n"
     ]
    }
   ],
   "source": [
    "model = tf.keras.Sequential()\n",
    "model.add(tf.keras.layers.Embedding(vocab_size, word_vector_dim,embeddings_initializer=Constant(embedding_matrix),\\\n",
    "                                    input_shape=(None,),\\\n",
    "                                   input_length=maxlen, trainable=True))\n",
    "model.add(tf.keras.layers.LSTM(128))   # 가장 널리 쓰이는 RNN인 LSTM 레이어를 사용하였습니다. 이때 LSTM state 벡터의 차원수는 8로 하였습니다. (변경 가능)\n",
    "model.add(tf.keras.layers.Dense(32, activation='relu'))\n",
    "model.add(tf.keras.layers.Dense(8, activation='relu'))\n",
    "model.add(tf.keras.layers.Dense(1, activation='sigmoid'))  # 최종 출력은 긍정/부정을 나타내는 1dim 입니다.\n",
    "\n",
    "model1.summary()"
   ]
  },
  {
   "cell_type": "code",
   "execution_count": 76,
   "id": "36f51299",
   "metadata": {},
   "outputs": [
    {
     "name": "stdout",
     "output_type": "stream",
     "text": [
      "Epoch 1/10\n",
      "266/266 [==============================] - 5s 12ms/step - loss: 0.4681 - accuracy: 0.7729 - val_loss: 0.3883 - val_accuracy: 0.8260\n",
      "Epoch 2/10\n",
      "266/266 [==============================] - 3s 10ms/step - loss: 0.3508 - accuracy: 0.8457 - val_loss: 0.3385 - val_accuracy: 0.8491\n",
      "Epoch 3/10\n",
      "266/266 [==============================] - 3s 10ms/step - loss: 0.3038 - accuracy: 0.8696 - val_loss: 0.3228 - val_accuracy: 0.8606\n",
      "Epoch 4/10\n",
      "266/266 [==============================] - 3s 10ms/step - loss: 0.2739 - accuracy: 0.8844 - val_loss: 0.3209 - val_accuracy: 0.8603\n",
      "Epoch 5/10\n",
      "266/266 [==============================] - 3s 11ms/step - loss: 0.2471 - accuracy: 0.8975 - val_loss: 0.3203 - val_accuracy: 0.8640\n",
      "Epoch 6/10\n",
      "266/266 [==============================] - 3s 10ms/step - loss: 0.2266 - accuracy: 0.9077 - val_loss: 0.3226 - val_accuracy: 0.8636\n",
      "Epoch 7/10\n",
      "266/266 [==============================] - 3s 11ms/step - loss: 0.2061 - accuracy: 0.9170 - val_loss: 0.3634 - val_accuracy: 0.8574\n",
      "Epoch 8/10\n",
      "266/266 [==============================] - 3s 10ms/step - loss: 0.1822 - accuracy: 0.9279 - val_loss: 0.3552 - val_accuracy: 0.8595\n",
      "Epoch 9/10\n",
      "266/266 [==============================] - 3s 11ms/step - loss: 0.1606 - accuracy: 0.9379 - val_loss: 0.3858 - val_accuracy: 0.8581\n",
      "Epoch 10/10\n",
      "266/266 [==============================] - 3s 10ms/step - loss: 0.1402 - accuracy: 0.9463 - val_loss: 0.4192 - val_accuracy: 0.8564\n"
     ]
    },
    {
     "data": {
      "image/png": "[encoded data removed]",
      "text/plain": [
       "<Figure size 864x576 with 2 Axes>"
      ]
     },
     "metadata": {
      "needs_background": "light"
     },
     "output_type": "display_data"
    }
   ],
   "source": [
    "fine_model = train(model,8,partial_x_train,partial_y_train,x_val, y_val)"
   ]
  },
  {
   "cell_type": "code",
   "execution_count": 77,
   "id": "07d1d46e",
   "metadata": {},
   "outputs": [
    {
     "name": "stdout",
     "output_type": "stream",
     "text": [
      "1537/1537 - 4s - loss: 0.4263 - accuracy: 0.8521\n",
      "[0.42627835273742676, 0.8521472215652466]\n"
     ]
    }
   ],
   "source": [
    "results = fine_model.evaluate(X_test,  y_test, verbose=2)\n",
    "\n",
    "print(results)#학습률 85퍼 달성"
   ]
  },
  {
   "cell_type": "markdown",
   "id": "9ecdccd2",
   "metadata": {},
   "source": [
    "전체적으로 에포크 값을 조금만 올려도 오버 피팅이 자주 일어나서 weight decay 역할을 하는 레이어들이 필요하다고 생각한다"
   ]
  },
  {
   "cell_type": "code",
   "execution_count": 65,
   "id": "5bcd9064",
   "metadata": {},
   "outputs": [],
   "source": [
    "# 학습한 Embedding 파라미터를 파일에 써서 저장합니다. \n",
    "#word2vec_file_path = os.getenv('HOME')+'/aiffel/sentiment_classification/data/word2vec.txt'\n",
    "#f = open(word2vec_file_path, 'w')\n",
    "#f.write('{} {}\\n'.format(vocab_size-4, word_vector_dim))  # 몇개의 벡터를 얼마 사이즈로 기재할지 타이틀을 씁니다.\n",
    "\n",
    "# 단어 개수(에서 특수문자 4개는 제외하고)만큼의 워드 벡터를 파일에 기록합니다. \n",
    "#vectors = model.get_weights()[0]\n",
    "#for i in range(4,vocab_size):\n",
    "#    f.write('{} {}\\n'.format(index_to_word[i], ' '.join(map(str, list(vectors[i, :])))))\n",
    "#f.close()"
   ]
  }
 ],
 "metadata": {
  "kernelspec": {
   "display_name": "Python 3 (ipykernel)",
   "language": "python",
   "name": "python3"
  },
  "language_info": {
   "codemirror_mode": {
    "name": "ipython",
    "version": 3
   },
   "file_extension": ".py",
   "mimetype": "text/x-python",
   "name": "python",
   "nbconvert_exporter": "python",
   "pygments_lexer": "ipython3",
   "version": "3.9.7"
  }
 },
 "nbformat": 4,
 "nbformat_minor": 5
}
