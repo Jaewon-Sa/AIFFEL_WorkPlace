{
 "cells": [
  {
   "cell_type": "markdown",
   "id": "ea692909",
   "metadata": {},
   "source": [
    "(1) 데이터 가져오기\n",
    "sklearn.datasets의 load_diabetes에서 데이터를 가져와주세요.\n",
    "diabetes의 data를 df_X에, target을 df_y에 저장해주세요."
   ]
  },
  {
   "cell_type": "code",
   "execution_count": 203,
   "id": "2836cac4",
   "metadata": {},
   "outputs": [],
   "source": [
    "from sklearn.datasets import load_diabetes\n",
    "\n",
    "diabetes=load_diabetes()\n",
    "\n",
    "df_X=diabetes.data\n",
    "df_y=diabetes.target"
   ]
  },
  {
   "cell_type": "markdown",
   "id": "9ffba224",
   "metadata": {},
   "source": [
    "(2) 모델에 입력할 데이터 X 준비하기\n",
    "df_X에 있는 값들을 numpy array로 변환해서 저장해주세요."
   ]
  },
  {
   "cell_type": "code",
   "execution_count": 204,
   "id": "f501db7e",
   "metadata": {},
   "outputs": [
    {
     "name": "stdout",
     "output_type": "stream",
     "text": [
      "(442, 10)\n",
      "(442, 10)\n",
      "(442,)\n",
      "<class 'numpy.ndarray'>\n",
      "['age', 'sex', 'bmi', 'bp', 's1', 's2', 's3', 's4', 's5', 's6']\n",
      ".. _diabetes_dataset:\n",
      "\n",
      "Diabetes dataset\n",
      "----------------\n",
      "\n",
      "Ten baseline variables, age, sex, body mass index, average blood\n",
      "pressure, and six blood serum measurements were obtained for each of n =\n",
      "442 diabetes patients, as well as the response of interest, a\n",
      "quantitative measure of disease progression one year after baseline.\n",
      "\n",
      "**Data Set Characteristics:**\n",
      "\n",
      "  :Number of Instances: 442\n",
      "\n",
      "  :Number of Attributes: First 10 columns are numeric predictive values\n",
      "\n",
      "  :Target: Column 11 is a quantitative measure of disease progression one year after baseline\n",
      "\n",
      "  :Attribute Information:\n",
      "      - age     age in years\n",
      "      - sex\n",
      "      - bmi     body mass index\n",
      "      - bp      average blood pressure\n",
      "      - s1      tc, total serum cholesterol\n",
      "      - s2      ldl, low-density lipoproteins\n",
      "      - s3      hdl, high-density lipoproteins\n",
      "      - s4      tch, total cholesterol / HDL\n",
      "      - s5      ltg, possibly log of serum triglycerides level\n",
      "      - s6      glu, blood sugar level\n",
      "\n",
      "Note: Each of these 10 feature variables have been mean centered and scaled by the standard deviation times `n_samples` (i.e. the sum of squares of each column totals 1).\n",
      "\n",
      "Source URL:\n",
      "https://www4.stat.ncsu.edu/~boos/var.select/diabetes.html\n",
      "\n",
      "For more information see:\n",
      "Bradley Efron, Trevor Hastie, Iain Johnstone and Robert Tibshirani (2004) \"Least Angle Regression,\" Annals of Statistics (with discussion), 407-499.\n",
      "(https://web.stanford.edu/~hastie/Papers/LARS/LeastAngle_2002.pdf)\n"
     ]
    }
   ],
   "source": [
    "print(df_X.shape)\n",
    "#df_X=np.delete(df_X, 1 , axis = 1)\n",
    "#df_X=np.delete(df_X, 7 , axis = 1)\n",
    "print(df_X.shape)\n",
    "print(df_y.shape)\n",
    "print(type(df_X))\n",
    "print(diabetes.feature_names)\n",
    "print(diabetes.DESCR)"
   ]
  },
  {
   "cell_type": "code",
   "execution_count": 205,
   "id": "05dd313a",
   "metadata": {},
   "outputs": [],
   "source": [
    "import pandas as pd"
   ]
  },
  {
   "cell_type": "markdown",
   "id": "471aef36",
   "metadata": {},
   "source": [
    "(3) 모델에 예측할 데이터 y 준비하기\n",
    "df_y에 있는 값들을 numpy array로 변환해서 저장해주세요."
   ]
  },
  {
   "cell_type": "code",
   "execution_count": 206,
   "id": "c81ebab0",
   "metadata": {},
   "outputs": [
    {
     "name": "stdout",
     "output_type": "stream",
     "text": [
      "<class 'numpy.ndarray'>\n"
     ]
    }
   ],
   "source": [
    "import numpy as np\n",
    "df_X=np.array(df_X)\n",
    "print(type(df_X))\n",
    "df_y=np.array(df_y)"
   ]
  },
  {
   "cell_type": "markdown",
   "id": "662c5c91",
   "metadata": {},
   "source": [
    "(4) train 데이터와 test 데이터로 분리하기\n",
    "X와 y 데이터를 각각 train 데이터와 test 데이터로 분리해주세요."
   ]
  },
  {
   "cell_type": "code",
   "execution_count": 207,
   "id": "71f804eb",
   "metadata": {},
   "outputs": [
    {
     "name": "stdout",
     "output_type": "stream",
     "text": [
      "(353, 10) (89, 10)\n"
     ]
    }
   ],
   "source": [
    "from sklearn.model_selection import train_test_split\n",
    "\n",
    "X_train, X_test, y_train, y_test = train_test_split(df_X, df_y, test_size=0.2, random_state=42)\n",
    "print(X_train.shape,X_test.shape)"
   ]
  },
  {
   "cell_type": "markdown",
   "id": "458b272c",
   "metadata": {},
   "source": [
    "(5) 모델 준비하기\n",
    "입력 데이터 개수에 맞는 가중치 W와 b를 준비해주세요.\n",
    "모델 함수를 구현해주세요."
   ]
  },
  {
   "cell_type": "code",
   "execution_count": 208,
   "id": "df5f96f6",
   "metadata": {},
   "outputs": [],
   "source": [
    "w = np.random.rand(len(X_train[0,:]))\n",
    "b = np.random.rand()\n",
    "def model(w,b,x):\n",
    "    return x@w+b"
   ]
  },
  {
   "cell_type": "markdown",
   "id": "df817a74",
   "metadata": {},
   "source": [
    "(6) 손실함수 loss 정의하기\n",
    "손실함수를 MSE 함수로 정의해주세요."
   ]
  },
  {
   "cell_type": "code",
   "execution_count": 209,
   "id": "5124b569",
   "metadata": {},
   "outputs": [],
   "source": [
    "def loss(x,w,b,y):\n",
    "    pred=model(w,b,x)\n",
    "    return ((y - pred) ** 2).mean()"
   ]
  },
  {
   "cell_type": "markdown",
   "id": "b0ba2e24",
   "metadata": {},
   "source": [
    "(7) 기울기를 구하는 gradient 함수 구현하기\n",
    "기울기를 계산하는 gradient 함수를 구현해주세요."
   ]
  },
  {
   "cell_type": "code",
   "execution_count": 210,
   "id": "743be401",
   "metadata": {},
   "outputs": [],
   "source": [
    "def gradient(x, w, b, y):\n",
    "    #dw = (loss(x, w + 0.0001, b, y) - loss(x, w, b, y)) / 0.0001\n",
    "    #db = (loss(x, w, b + 0.0001, y) - loss(x, w, b, y)) / 0.0001\n",
    "    N = len(y)\n",
    "    \n",
    "    # y_pred 준비\n",
    "    y_pred = model(w, b, x)\n",
    "    \n",
    "    # 공식에 맞게 gradient 계산\n",
    "    dw = 1/N * 2 * x.T.dot(y_pred - y)\n",
    "        \n",
    "    # b의 gradient 계산\n",
    "    db = 2 * (y_pred - y).mean()\n",
    "    return dw, db"
   ]
  },
  {
   "cell_type": "markdown",
   "id": "c2f25714",
   "metadata": {},
   "source": [
    "(8) 하이퍼 파라미터인 학습률 설정하기\n",
    "학습률, learning rate 를 설정해주세요\n",
    "만약 학습이 잘 되지 않는다면 learning rate 값을 한번 여러 가지로 설정하며 실험해 보세요."
   ]
  },
  {
   "cell_type": "code",
   "execution_count": 211,
   "id": "c7b9d66f",
   "metadata": {},
   "outputs": [],
   "source": [
    "lr=0.01\n",
    "def train_step(x,w,b,y):\n",
    "    dw,db=gradient(x, w, b, y)\n",
    "    w-=lr*dw\n",
    "    b-=lr*db\n",
    "    return w,b"
   ]
  },
  {
   "cell_type": "markdown",
   "id": "1a8fa52b",
   "metadata": {},
   "source": [
    "(9) 모델 학습하기\n",
    "정의된 손실함수와 기울기 함수로 모델을 학습해주세요.\n",
    "loss값이 충분히 떨어질 때까지 학습을 진행해주세요.\n",
    "입력하는 데이터인 X에 들어가는 특성 컬럼들을 몇 개 빼도 괜찮습니다. 다양한 데이터로 실험해 보세요."
   ]
  },
  {
   "cell_type": "code",
   "execution_count": 212,
   "id": "75df23ed",
   "metadata": {},
   "outputs": [
    {
     "name": "stdout",
     "output_type": "stream",
     "text": [
      "LossValue=28724.646775583184\n",
      "LossValue=4007.9602727398333\n",
      "LossValue=3444.0835012867838\n",
      "LossValue=3215.2056692732303\n",
      "LossValue=3094.4093245748522\n",
      "LossValue=3023.117232522406\n",
      "LossValue=2979.1845969770834\n",
      "LossValue=2951.5206951436016\n",
      "LossValue=2933.820927673927\n",
      "LossValue=2922.325819787413\n",
      "LossValue=2914.7455820072573\n",
      "LossValue=2909.666532790258\n"
     ]
    }
   ],
   "source": [
    "for i in range(60000):\n",
    "    w,b=train_step(X_train,w,b,y_train)\n",
    "    if i%5000==0:\n",
    "        print(\"LossValue={0}\".format(loss(X_train,w,b,y_train)))\n",
    "    "
   ]
  },
  {
   "cell_type": "markdown",
   "id": "edb8b65b",
   "metadata": {},
   "source": [
    "(10) test 데이터에 대한 성능 확인하기\n",
    "test 데이터에 대한 성능을 확인해주세요."
   ]
  },
  {
   "cell_type": "code",
   "execution_count": 213,
   "id": "e051bb04",
   "metadata": {},
   "outputs": [
    {
     "data": {
      "text/plain": [
       "2870.6199778590335"
      ]
     },
     "execution_count": 213,
     "metadata": {},
     "output_type": "execute_result"
    }
   ],
   "source": [
    "prediction = model(w, b, X_test)\n",
    "mse = loss(X_test, w, b, y_test)\n",
    "mse"
   ]
  },
  {
   "cell_type": "markdown",
   "id": "a70b0d96",
   "metadata": {},
   "source": [
    "(11) 정답 데이터와 예측한 데이터 시각화하기"
   ]
  },
  {
   "cell_type": "code",
   "execution_count": 214,
   "id": "71ee6537",
   "metadata": {},
   "outputs": [
    {
     "data": {
      "image/png": "[encoded data removed]",
      "text/plain": [
       "<Figure size 432x288 with 1 Axes>"
      ]
     },
     "metadata": {
      "needs_background": "light"
     },
     "output_type": "display_data"
    }
   ],
   "source": [
    "import matplotlib.pyplot as plt\n",
    "plt.scatter(X_test[:,0], y_test)\n",
    "plt.scatter(X_test[:,0], prediction)\n",
    "plt.show()"
   ]
  },
  {
   "cell_type": "code",
   "execution_count": 227,
   "id": "ee403b58",
   "metadata": {},
   "outputs": [
    {
     "data": {
      "image/png": "[encoded data removed]",
      "text/plain": [
       "<Figure size 432x288 with 2 Axes>"
      ]
     },
     "metadata": {
      "needs_background": "light"
     },
     "output_type": "display_data"
    }
   ],
   "source": [
    "prediction = model(w, b, X_train)\n",
    "plt.subplot(211)\n",
    "plt.scatter(X_train[:,0], y_train)\n",
    "plt.subplot(212)\n",
    "plt.scatter(X_train[:,1], y_train)\n",
    "plt.subplot(523)\n",
    "plt.scatter(X_train[:,2], y_train)\n",
    "plt.subplot(524)\n",
    "plt.scatter(X_train[:,3], y_train)\n",
    "plt.subplot(525)\n",
    "plt.scatter(X_train[:,4], y_train)\n",
    "plt.subplot(526)\n",
    "plt.scatter(X_train[:,5], y_train)\n",
    "plt.subplot(527)\n",
    "plt.scatter(X_train[:,6], y_train)\n",
    "plt.subplot(528)\n",
    "plt.scatter(X_train[:,7], y_train)\n",
    "plt.subplot(529)\n",
    "plt.scatter(X_train[:,8], y_train)\n",
    "plt.subplot(5210)\n",
    "plt.scatter(X_train[:,9], y_train)\n",
    "plt.show()"
   ]
  },
  {
   "cell_type": "code",
   "execution_count": 168,
   "id": "a6d118ef",
   "metadata": {},
   "outputs": [
    {
     "name": "stdout",
     "output_type": "stream",
     "text": [
      "(10, 2)\n",
      "(300, 2)\n"
     ]
    }
   ],
   "source": [
    "a = np.random.rand(300,10)\n",
    "b = np.random.rand(10,2)\n",
    "print(b.shape)\n",
    "print((a@b).shape)"
   ]
  },
  {
   "cell_type": "code",
   "execution_count": null,
   "id": "c51254c8",
   "metadata": {},
   "outputs": [],
   "source": []
  },
  {
   "cell_type": "code",
   "execution_count": null,
   "id": "6b75f5a9",
   "metadata": {},
   "outputs": [],
   "source": []
  }
 ],
 "metadata": {
  "kernelspec": {
   "display_name": "Python 3 (ipykernel)",
   "language": "python",
   "name": "python3"
  },
  "language_info": {
   "codemirror_mode": {
    "name": "ipython",
    "version": 3
   },
   "file_extension": ".py",
   "mimetype": "text/x-python",
   "name": "python",
   "nbconvert_exporter": "python",
   "pygments_lexer": "ipython3",
   "version": "3.9.7"
  }
 },
 "nbformat": 4,
 "nbformat_minor": 5
}
